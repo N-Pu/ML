{
 "cells": [
  {
   "cell_type": "code",
   "execution_count": 111,
   "metadata": {},
   "outputs": [],
   "source": [
    "import sklearn                  # Алгоритмы машинного обучения\n",
    "import seaborn as sns           # Еще больше красивой графики для визуализации данных\n",
    "import pandas as pd             # Таблицы и временные ряды (dataframe, series)\n",
    "import numpy as np              # Массивы (матрицы, векторы, линейная алгебра)\n",
    "import matplotlib.pyplot as plt  # Научная графика\n",
    "%matplotlib inline"
   ]
  },
  {
   "cell_type": "markdown",
   "metadata": {},
   "source": [
    "# 0. Описание задачи"
   ]
  },
  {
   "attachments": {},
   "cell_type": "markdown",
   "metadata": {},
   "source": [
    "## Исходная таблица с данными содержит статистику по сервису Google Play. Необходимо, по значениям признаков узнать платное или бесплатное ли приложение.\n",
    "### Имена столбцов(признаков)\n",
    "1. App - название приложения\n",
    "2. Category - категория приложения\n",
    "3. Rating - рейтинг приложения(оценка выставленная пользователями)\n",
    "4. Reviews - количество отзывов о приложении\n",
    "5. Size - размер приложения\n",
    "6. Installs - количество скачиваний приложения\n",
    "7. Type - платное или бесплатное приложение\n",
    "8. Price - цена приложения\n",
    "9. Content Rating - возрастное ограничение\n",
    "10. Genres - жанр приложения\n",
    "11. Last Updated - последнее обновление\n",
    "12. Current Ver - текущая версия приложения\n",
    "13. Android Ver - версия Android OS, которую поддерживает приложение"
   ]
  },
  {
   "attachments": {},
   "cell_type": "markdown",
   "metadata": {},
   "source": [
    "# 1. Чтение данных"
   ]
  },
  {
   "cell_type": "code",
   "execution_count": 112,
   "metadata": {},
   "outputs": [],
   "source": [
    "hello  = \"oajdoj\""
   ]
  },
  {
   "cell_type": "code",
   "execution_count": 113,
   "metadata": {},
   "outputs": [
    {
     "data": {
      "text/plain": [
       "RangeIndex(start=0, stop=10841, step=1)"
      ]
     },
     "execution_count": 113,
     "metadata": {},
     "output_type": "execute_result"
    }
   ],
   "source": [
    "data_raw = pd.read_csv(\"./googleplaystore.csv\")\n",
    "data_raw.index"
   ]
  },
  {
   "cell_type": "code",
   "execution_count": 114,
   "metadata": {},
   "outputs": [
    {
     "data": {
      "text/plain": [
       "Index(['App', 'Category', 'Rating', 'Reviews', 'Size', 'Installs', 'Type',\n",
       "       'Price', 'Content Rating', 'Genres', 'Last Updated', 'Current Ver',\n",
       "       'Android Ver'],\n",
       "      dtype='object')"
      ]
     },
     "execution_count": 114,
     "metadata": {},
     "output_type": "execute_result"
    }
   ],
   "source": [
    "data_raw.columns"
   ]
  },
  {
   "cell_type": "code",
   "execution_count": 115,
   "metadata": {},
   "outputs": [
    {
     "data": {
      "text/html": [
       "<div>\n",
       "<style scoped>\n",
       "    .dataframe tbody tr th:only-of-type {\n",
       "        vertical-align: middle;\n",
       "    }\n",
       "\n",
       "    .dataframe tbody tr th {\n",
       "        vertical-align: top;\n",
       "    }\n",
       "\n",
       "    .dataframe thead th {\n",
       "        text-align: right;\n",
       "    }\n",
       "</style>\n",
       "<table border=\"1\" class=\"dataframe\">\n",
       "  <thead>\n",
       "    <tr style=\"text-align: right;\">\n",
       "      <th></th>\n",
       "      <th>App</th>\n",
       "      <th>Category</th>\n",
       "      <th>Rating</th>\n",
       "      <th>Reviews</th>\n",
       "      <th>Size</th>\n",
       "      <th>Installs</th>\n",
       "      <th>Type</th>\n",
       "      <th>Price</th>\n",
       "      <th>Content Rating</th>\n",
       "      <th>Genres</th>\n",
       "      <th>Last Updated</th>\n",
       "      <th>Current Ver</th>\n",
       "      <th>Android Ver</th>\n",
       "    </tr>\n",
       "  </thead>\n",
       "  <tbody>\n",
       "    <tr>\n",
       "      <th>0</th>\n",
       "      <td>Photo Editor &amp; Candy Camera &amp; Grid &amp; ScrapBook</td>\n",
       "      <td>ART_AND_DESIGN</td>\n",
       "      <td>4.1</td>\n",
       "      <td>159</td>\n",
       "      <td>19M</td>\n",
       "      <td>10,000+</td>\n",
       "      <td>Free</td>\n",
       "      <td>0</td>\n",
       "      <td>Everyone</td>\n",
       "      <td>Art &amp; Design</td>\n",
       "      <td>January 7, 2018</td>\n",
       "      <td>1.0.0</td>\n",
       "      <td>4.0.3 and up</td>\n",
       "    </tr>\n",
       "    <tr>\n",
       "      <th>1</th>\n",
       "      <td>Coloring book moana</td>\n",
       "      <td>ART_AND_DESIGN</td>\n",
       "      <td>3.9</td>\n",
       "      <td>967</td>\n",
       "      <td>14M</td>\n",
       "      <td>500,000+</td>\n",
       "      <td>Free</td>\n",
       "      <td>0</td>\n",
       "      <td>Everyone</td>\n",
       "      <td>Art &amp; Design;Pretend Play</td>\n",
       "      <td>January 15, 2018</td>\n",
       "      <td>2.0.0</td>\n",
       "      <td>4.0.3 and up</td>\n",
       "    </tr>\n",
       "    <tr>\n",
       "      <th>2</th>\n",
       "      <td>U Launcher Lite – FREE Live Cool Themes, Hide ...</td>\n",
       "      <td>ART_AND_DESIGN</td>\n",
       "      <td>4.7</td>\n",
       "      <td>87510</td>\n",
       "      <td>8.7M</td>\n",
       "      <td>5,000,000+</td>\n",
       "      <td>Free</td>\n",
       "      <td>0</td>\n",
       "      <td>Everyone</td>\n",
       "      <td>Art &amp; Design</td>\n",
       "      <td>August 1, 2018</td>\n",
       "      <td>1.2.4</td>\n",
       "      <td>4.0.3 and up</td>\n",
       "    </tr>\n",
       "    <tr>\n",
       "      <th>3</th>\n",
       "      <td>Sketch - Draw &amp; Paint</td>\n",
       "      <td>ART_AND_DESIGN</td>\n",
       "      <td>4.5</td>\n",
       "      <td>215644</td>\n",
       "      <td>25M</td>\n",
       "      <td>50,000,000+</td>\n",
       "      <td>Free</td>\n",
       "      <td>0</td>\n",
       "      <td>Teen</td>\n",
       "      <td>Art &amp; Design</td>\n",
       "      <td>June 8, 2018</td>\n",
       "      <td>Varies with device</td>\n",
       "      <td>4.2 and up</td>\n",
       "    </tr>\n",
       "    <tr>\n",
       "      <th>4</th>\n",
       "      <td>Pixel Draw - Number Art Coloring Book</td>\n",
       "      <td>ART_AND_DESIGN</td>\n",
       "      <td>4.3</td>\n",
       "      <td>967</td>\n",
       "      <td>2.8M</td>\n",
       "      <td>100,000+</td>\n",
       "      <td>Free</td>\n",
       "      <td>0</td>\n",
       "      <td>Everyone</td>\n",
       "      <td>Art &amp; Design;Creativity</td>\n",
       "      <td>June 20, 2018</td>\n",
       "      <td>1.1</td>\n",
       "      <td>4.4 and up</td>\n",
       "    </tr>\n",
       "  </tbody>\n",
       "</table>\n",
       "</div>"
      ],
      "text/plain": [
       "                                                 App        Category  Rating  \\\n",
       "0     Photo Editor & Candy Camera & Grid & ScrapBook  ART_AND_DESIGN     4.1   \n",
       "1                                Coloring book moana  ART_AND_DESIGN     3.9   \n",
       "2  U Launcher Lite – FREE Live Cool Themes, Hide ...  ART_AND_DESIGN     4.7   \n",
       "3                              Sketch - Draw & Paint  ART_AND_DESIGN     4.5   \n",
       "4              Pixel Draw - Number Art Coloring Book  ART_AND_DESIGN     4.3   \n",
       "\n",
       "  Reviews  Size     Installs  Type Price Content Rating  \\\n",
       "0     159   19M      10,000+  Free     0       Everyone   \n",
       "1     967   14M     500,000+  Free     0       Everyone   \n",
       "2   87510  8.7M   5,000,000+  Free     0       Everyone   \n",
       "3  215644   25M  50,000,000+  Free     0           Teen   \n",
       "4     967  2.8M     100,000+  Free     0       Everyone   \n",
       "\n",
       "                      Genres      Last Updated         Current Ver  \\\n",
       "0               Art & Design   January 7, 2018               1.0.0   \n",
       "1  Art & Design;Pretend Play  January 15, 2018               2.0.0   \n",
       "2               Art & Design    August 1, 2018               1.2.4   \n",
       "3               Art & Design      June 8, 2018  Varies with device   \n",
       "4    Art & Design;Creativity     June 20, 2018                 1.1   \n",
       "\n",
       "    Android Ver  \n",
       "0  4.0.3 and up  \n",
       "1  4.0.3 and up  \n",
       "2  4.0.3 and up  \n",
       "3    4.2 and up  \n",
       "4    4.4 and up  "
      ]
     },
     "execution_count": 115,
     "metadata": {},
     "output_type": "execute_result"
    }
   ],
   "source": [
    "data_raw.head()"
   ]
  },
  {
   "cell_type": "code",
   "execution_count": 116,
   "metadata": {},
   "outputs": [
    {
     "data": {
      "text/html": [
       "<div>\n",
       "<style scoped>\n",
       "    .dataframe tbody tr th:only-of-type {\n",
       "        vertical-align: middle;\n",
       "    }\n",
       "\n",
       "    .dataframe tbody tr th {\n",
       "        vertical-align: top;\n",
       "    }\n",
       "\n",
       "    .dataframe thead th {\n",
       "        text-align: right;\n",
       "    }\n",
       "</style>\n",
       "<table border=\"1\" class=\"dataframe\">\n",
       "  <thead>\n",
       "    <tr style=\"text-align: right;\">\n",
       "      <th></th>\n",
       "      <th>App</th>\n",
       "      <th>Category</th>\n",
       "      <th>Rating</th>\n",
       "      <th>Reviews</th>\n",
       "      <th>Size</th>\n",
       "      <th>Installs</th>\n",
       "      <th>Type</th>\n",
       "      <th>Price</th>\n",
       "      <th>Content Rating</th>\n",
       "      <th>Genres</th>\n",
       "      <th>Last Updated</th>\n",
       "      <th>Current Ver</th>\n",
       "      <th>Android Ver</th>\n",
       "    </tr>\n",
       "  </thead>\n",
       "  <tbody>\n",
       "    <tr>\n",
       "      <th>10836</th>\n",
       "      <td>Sya9a Maroc - FR</td>\n",
       "      <td>FAMILY</td>\n",
       "      <td>4.5</td>\n",
       "      <td>38</td>\n",
       "      <td>53M</td>\n",
       "      <td>5,000+</td>\n",
       "      <td>Free</td>\n",
       "      <td>0</td>\n",
       "      <td>Everyone</td>\n",
       "      <td>Education</td>\n",
       "      <td>July 25, 2017</td>\n",
       "      <td>1.48</td>\n",
       "      <td>4.1 and up</td>\n",
       "    </tr>\n",
       "    <tr>\n",
       "      <th>10837</th>\n",
       "      <td>Fr. Mike Schmitz Audio Teachings</td>\n",
       "      <td>FAMILY</td>\n",
       "      <td>5.0</td>\n",
       "      <td>4</td>\n",
       "      <td>3.6M</td>\n",
       "      <td>100+</td>\n",
       "      <td>Free</td>\n",
       "      <td>0</td>\n",
       "      <td>Everyone</td>\n",
       "      <td>Education</td>\n",
       "      <td>July 6, 2018</td>\n",
       "      <td>1.0</td>\n",
       "      <td>4.1 and up</td>\n",
       "    </tr>\n",
       "    <tr>\n",
       "      <th>10838</th>\n",
       "      <td>Parkinson Exercices FR</td>\n",
       "      <td>MEDICAL</td>\n",
       "      <td>NaN</td>\n",
       "      <td>3</td>\n",
       "      <td>9.5M</td>\n",
       "      <td>1,000+</td>\n",
       "      <td>Free</td>\n",
       "      <td>0</td>\n",
       "      <td>Everyone</td>\n",
       "      <td>Medical</td>\n",
       "      <td>January 20, 2017</td>\n",
       "      <td>1.0</td>\n",
       "      <td>2.2 and up</td>\n",
       "    </tr>\n",
       "    <tr>\n",
       "      <th>10839</th>\n",
       "      <td>The SCP Foundation DB fr nn5n</td>\n",
       "      <td>BOOKS_AND_REFERENCE</td>\n",
       "      <td>4.5</td>\n",
       "      <td>114</td>\n",
       "      <td>Varies with device</td>\n",
       "      <td>1,000+</td>\n",
       "      <td>Free</td>\n",
       "      <td>0</td>\n",
       "      <td>Mature 17+</td>\n",
       "      <td>Books &amp; Reference</td>\n",
       "      <td>January 19, 2015</td>\n",
       "      <td>Varies with device</td>\n",
       "      <td>Varies with device</td>\n",
       "    </tr>\n",
       "    <tr>\n",
       "      <th>10840</th>\n",
       "      <td>iHoroscope - 2018 Daily Horoscope &amp; Astrology</td>\n",
       "      <td>LIFESTYLE</td>\n",
       "      <td>4.5</td>\n",
       "      <td>398307</td>\n",
       "      <td>19M</td>\n",
       "      <td>10,000,000+</td>\n",
       "      <td>Free</td>\n",
       "      <td>0</td>\n",
       "      <td>Everyone</td>\n",
       "      <td>Lifestyle</td>\n",
       "      <td>July 25, 2018</td>\n",
       "      <td>Varies with device</td>\n",
       "      <td>Varies with device</td>\n",
       "    </tr>\n",
       "  </tbody>\n",
       "</table>\n",
       "</div>"
      ],
      "text/plain": [
       "                                                 App             Category  \\\n",
       "10836                               Sya9a Maroc - FR               FAMILY   \n",
       "10837               Fr. Mike Schmitz Audio Teachings               FAMILY   \n",
       "10838                         Parkinson Exercices FR              MEDICAL   \n",
       "10839                  The SCP Foundation DB fr nn5n  BOOKS_AND_REFERENCE   \n",
       "10840  iHoroscope - 2018 Daily Horoscope & Astrology            LIFESTYLE   \n",
       "\n",
       "       Rating Reviews                Size     Installs  Type Price  \\\n",
       "10836     4.5      38                 53M       5,000+  Free     0   \n",
       "10837     5.0       4                3.6M         100+  Free     0   \n",
       "10838     NaN       3                9.5M       1,000+  Free     0   \n",
       "10839     4.5     114  Varies with device       1,000+  Free     0   \n",
       "10840     4.5  398307                 19M  10,000,000+  Free     0   \n",
       "\n",
       "      Content Rating             Genres      Last Updated         Current Ver  \\\n",
       "10836       Everyone          Education     July 25, 2017                1.48   \n",
       "10837       Everyone          Education      July 6, 2018                 1.0   \n",
       "10838       Everyone            Medical  January 20, 2017                 1.0   \n",
       "10839     Mature 17+  Books & Reference  January 19, 2015  Varies with device   \n",
       "10840       Everyone          Lifestyle     July 25, 2018  Varies with device   \n",
       "\n",
       "              Android Ver  \n",
       "10836          4.1 and up  \n",
       "10837          4.1 and up  \n",
       "10838          2.2 and up  \n",
       "10839  Varies with device  \n",
       "10840  Varies with device  "
      ]
     },
     "execution_count": 116,
     "metadata": {},
     "output_type": "execute_result"
    }
   ],
   "source": [
    "data_raw.tail()"
   ]
  },
  {
   "cell_type": "markdown",
   "metadata": {},
   "source": [
    "## Частично произведем обработку данных и выделим категориальные признаки"
   ]
  },
  {
   "cell_type": "code",
   "execution_count": 117,
   "metadata": {},
   "outputs": [
    {
     "data": {
      "text/plain": [
       "App                object\n",
       "Category           object\n",
       "Rating            float64\n",
       "Reviews            object\n",
       "Size               object\n",
       "Installs           object\n",
       "Type               object\n",
       "Price              object\n",
       "Content Rating     object\n",
       "Genres             object\n",
       "Last Updated       object\n",
       "Current Ver        object\n",
       "Android Ver        object\n",
       "dtype: object"
      ]
     },
     "execution_count": 117,
     "metadata": {},
     "output_type": "execute_result"
    }
   ],
   "source": [
    "data_raw.dtypes"
   ]
  },
  {
   "cell_type": "code",
   "execution_count": 118,
   "metadata": {},
   "outputs": [
    {
     "data": {
      "text/plain": [
       "CategoricalDtype(categories=['ART_AND_DESIGN', 'AUTO_AND_VEHICLES', 'BEAUTY',\n",
       "                  'BOOKS_AND_REFERENCE', 'BUSINESS', 'COMICS', 'COMMUNICATION',\n",
       "                  'DATING', 'EDUCATION', 'ENTERTAINMENT', 'EVENTS', 'FAMILY',\n",
       "                  'FINANCE', 'FOOD_AND_DRINK', 'GAME', 'HEALTH_AND_FITNESS',\n",
       "                  'HOUSE_AND_HOME', 'LIBRARIES_AND_DEMO', 'LIFESTYLE',\n",
       "                  'MAPS_AND_NAVIGATION', 'MEDICAL', 'NEWS_AND_MAGAZINES',\n",
       "                  'PARENTING', 'PERSONALIZATION', 'PHOTOGRAPHY',\n",
       "                  'PRODUCTIVITY', 'SHOPPING', 'SOCIAL', 'SPORTS', 'TOOLS',\n",
       "                  'TRAVEL_AND_LOCAL', 'VIDEO_PLAYERS', 'WEATHER'],\n",
       ", ordered=False)"
      ]
     },
     "execution_count": 118,
     "metadata": {},
     "output_type": "execute_result"
    }
   ],
   "source": [
    "data_raw['Category'] = data_raw['Category'].astype('category')\n",
    "data_raw['Category'] = data_raw['Category'].replace(to_replace=\"1.9\", value=np.nan)\n",
    "data_raw['Category'].dtype"
   ]
  },
  {
   "cell_type": "code",
   "execution_count": 119,
   "metadata": {},
   "outputs": [
    {
     "data": {
      "text/plain": [
       "CategoricalDtype(categories=['Free', 'Paid'], ordered=False)"
      ]
     },
     "execution_count": 119,
     "metadata": {},
     "output_type": "execute_result"
    }
   ],
   "source": [
    "data_raw['Type'] = data_raw['Type'].astype('category')\n",
    "data_raw['Type'] = data_raw['Type'].replace(to_replace=\"0\", value=\"Free\")\n",
    "data_raw['Type'].dtype"
   ]
  },
  {
   "cell_type": "code",
   "execution_count": 120,
   "metadata": {},
   "outputs": [
    {
     "data": {
      "text/plain": [
       "dtype('float64')"
      ]
     },
     "execution_count": 120,
     "metadata": {},
     "output_type": "execute_result"
    }
   ],
   "source": [
    "data_raw['Reviews'] = data_raw['Reviews'].replace(\"3.0M\", 3000000 , regex=True)\n",
    "data_raw['Reviews'] = data_raw['Reviews'].astype('float')\n",
    "data_raw['Reviews'].dtype"
   ]
  },
  {
   "cell_type": "code",
   "execution_count": 121,
   "metadata": {},
   "outputs": [
    {
     "data": {
      "text/plain": [
       "dtype('float64')"
      ]
     },
     "execution_count": 121,
     "metadata": {},
     "output_type": "execute_result"
    }
   ],
   "source": [
    "data_raw['Size'] = data_raw['Size'].replace(\"Varies with device\", np.nan , regex=True)\n",
    "data_raw['Size'] = data_raw['Size'].str[:-1]\n",
    "data_raw = data_raw.replace(\"1,\", 1 , regex=True)\n",
    "data_raw['Size'] = pd.to_numeric(data_raw['Size'])\n",
    "data_raw['Size'].dtype"
   ]
  },
  {
   "cell_type": "code",
   "execution_count": 122,
   "metadata": {},
   "outputs": [
    {
     "data": {
      "text/plain": [
       "dtype('float64')"
      ]
     },
     "execution_count": 122,
     "metadata": {},
     "output_type": "execute_result"
    }
   ],
   "source": [
    "data_raw['Installs'] = data_raw['Installs'].replace(\"Free\", np.nan , regex=True)\n",
    "data_raw['Installs'] = data_raw['Installs'].apply(lambda v: float(str(v).replace(\"+\",\"\").replace(\",\",\"\")))\n",
    "data_raw['Installs'] = data_raw['Installs'].astype('float')\n",
    "data_raw['Installs'].dtype"
   ]
  },
  {
   "cell_type": "code",
   "execution_count": 123,
   "metadata": {},
   "outputs": [
    {
     "data": {
      "text/plain": [
       "CategoricalDtype(categories=['Free', 'Paid'], ordered=False)"
      ]
     },
     "execution_count": 123,
     "metadata": {},
     "output_type": "execute_result"
    }
   ],
   "source": [
    "data_raw['Type'] = data_raw['Type'].astype('category')\n",
    "data_raw['Type'] = data_raw['Type'].replace(\"0\", \"Free\" , regex=True)\n",
    "data_raw['Type'].dtype"
   ]
  },
  {
   "cell_type": "code",
   "execution_count": 124,
   "metadata": {},
   "outputs": [
    {
     "data": {
      "text/plain": [
       "dtype('float64')"
      ]
     },
     "execution_count": 124,
     "metadata": {},
     "output_type": "execute_result"
    }
   ],
   "source": [
    "data_raw['Price'] = data_raw['Price'].replace(\"Everyone\", 0, regex=True)\n",
    "data_raw['Price'] = data_raw['Price'].apply(lambda v: float(str(v).replace(\"$\",\"\")))\n",
    "data_raw['Price'].dtype"
   ]
  },
  {
   "cell_type": "code",
   "execution_count": 125,
   "metadata": {},
   "outputs": [
    {
     "data": {
      "text/plain": [
       "array(['Everyone', 'Teen', 'Everyone 10+', 'Mature 17+',\n",
       "       'Adults only 18+', 'Unrated', nan], dtype=object)"
      ]
     },
     "execution_count": 125,
     "metadata": {},
     "output_type": "execute_result"
    }
   ],
   "source": [
    "data_raw['Content Rating'].unique()"
   ]
  },
  {
   "cell_type": "code",
   "execution_count": 126,
   "metadata": {},
   "outputs": [
    {
     "data": {
      "text/plain": [
       "dtype('float64')"
      ]
     },
     "execution_count": 126,
     "metadata": {},
     "output_type": "execute_result"
    }
   ],
   "source": [
    "data_raw['Content Rating'] = data_raw['Content Rating'].apply(lambda v: str(v).replace(\"Adults only 18+\",\"18\").replace(\"Mature 17+\",\"18\").replace(\"Teen\",\"6\").replace(\"Unrated\",\"0\").replace(\"Everyone\",\"0\").replace(\"0 10+\", \"10\"))\n",
    "data_raw['Content Rating'] = data_raw['Content Rating'].astype('float')\n",
    "data_raw['Content Rating'].dtype"
   ]
  },
  {
   "cell_type": "code",
   "execution_count": 127,
   "metadata": {},
   "outputs": [
    {
     "data": {
      "text/plain": [
       "CategoricalDtype(categories=[                                      1,\n",
       "                                                 'Action',\n",
       "                              'Action;Action & Adventure',\n",
       "                                              'Adventure',\n",
       "                           'Adventure;Action & Adventure',\n",
       "                                  'Adventure;Brain Games',\n",
       "                                    'Adventure;Education',\n",
       "                                                 'Arcade',\n",
       "                              'Arcade;Action & Adventure',\n",
       "                                    'Arcade;Pretend Play',\n",
       "                  ...\n",
       "                                        'Tools;Education',\n",
       "                                         'Travel & Local',\n",
       "                      'Travel & Local;Action & Adventure',\n",
       "                                                 'Trivia',\n",
       "                                       'Trivia;Education',\n",
       "                                'Video Players & Editors',\n",
       "                     'Video Players & Editors;Creativity',\n",
       "                  'Video Players & Editors;Music & Video',\n",
       "                                                'Weather',\n",
       "                                                   'Word'],\n",
       ", ordered=False)"
      ]
     },
     "execution_count": 127,
     "metadata": {},
     "output_type": "execute_result"
    }
   ],
   "source": [
    "data_raw['Genres'] = data_raw['Genres'].astype('category')\n",
    "data_raw['Genres'].dtype"
   ]
  },
  {
   "cell_type": "markdown",
   "metadata": {},
   "source": [
    "# Обработка пропущенных значений"
   ]
  },
  {
   "cell_type": "code",
   "execution_count": 128,
   "metadata": {},
   "outputs": [
    {
     "data": {
      "text/plain": [
       "App                  0\n",
       "Category             1\n",
       "Rating            1474\n",
       "Reviews              0\n",
       "Size              1695\n",
       "Installs             1\n",
       "Type                 1\n",
       "Price                0\n",
       "Content Rating       1\n",
       "Genres               0\n",
       "Last Updated         0\n",
       "Current Ver          8\n",
       "Android Ver          3\n",
       "dtype: int64"
      ]
     },
     "execution_count": 128,
     "metadata": {},
     "output_type": "execute_result"
    }
   ],
   "source": [
    "data_raw.isna().sum()"
   ]
  },
  {
   "cell_type": "markdown",
   "metadata": {},
   "source": [
    "### Удалим строки в которых содержится малое количество незаполненных значений"
   ]
  },
  {
   "cell_type": "code",
   "execution_count": 129,
   "metadata": {},
   "outputs": [],
   "source": [
    "data_na = data_raw.copy()\n",
    "data_na.drop_duplicates(subset='App', inplace=True)\n",
    "data_na.dropna(axis=0, how=\"all\", subset=['Android Ver'], inplace=True)\n",
    "data_na.dropna(axis=0, how=\"all\", subset=['Category'], inplace=True)\n",
    "data_na.dropna(axis=0, how=\"all\", subset=['Current Ver'], inplace=True)\n",
    "data_na.dropna(axis=0, how=\"all\", subset=['Type'], inplace=True)"
   ]
  },
  {
   "cell_type": "code",
   "execution_count": 130,
   "metadata": {},
   "outputs": [
    {
     "data": {
      "text/plain": [
       "App                  0\n",
       "Category             0\n",
       "Rating            1458\n",
       "Reviews              0\n",
       "Size              1226\n",
       "Installs             0\n",
       "Type                 0\n",
       "Price                0\n",
       "Content Rating       0\n",
       "Genres               0\n",
       "Last Updated         0\n",
       "Current Ver          0\n",
       "Android Ver          0\n",
       "dtype: int64"
      ]
     },
     "execution_count": 130,
     "metadata": {},
     "output_type": "execute_result"
    }
   ],
   "source": [
    "data_na.isna().sum()"
   ]
  },
  {
   "cell_type": "markdown",
   "metadata": {},
   "source": [
    "## С остальными пропущенными значениями будем пытаться путем заполнения их средним значением немного позже(после избавления от выбросов)"
   ]
  },
  {
   "cell_type": "markdown",
   "metadata": {},
   "source": [
    "## Столбцы с версией приложения и андроида исключим из дальнейшего анализа, так же исключим названия приложений"
   ]
  },
  {
   "cell_type": "code",
   "execution_count": 131,
   "metadata": {},
   "outputs": [],
   "source": [
    "del data_na['Android Ver']\n",
    "del data_na['Current Ver']\n",
    "del data_na['App']\n",
    "del data_na['Last Updated']"
   ]
  },
  {
   "cell_type": "markdown",
   "metadata": {},
   "source": [
    "# Избавляемся от выбросов"
   ]
  },
  {
   "cell_type": "markdown",
   "metadata": {},
   "source": [
    "## Для начала построим графики зависимостей, чтобы оценить количество выбросов"
   ]
  },
  {
   "cell_type": "code",
   "execution_count": 132,
   "metadata": {},
   "outputs": [
    {
     "data": {
      "text/plain": [
       "Text(0, 0.5, 'Rating')"
      ]
     },
     "execution_count": 132,
     "metadata": {},
     "output_type": "execute_result"
    },
    {
     "data": {
      "image/png": "[encoded data removed]",
      "text/plain": [
       "<Figure size 432x288 with 1 Axes>"
      ]
     },
     "metadata": {
      "needs_background": "light"
     },
     "output_type": "display_data"
    }
   ],
   "source": [
    "plt.scatter(data_na['Installs'], data_na['Rating'])\n",
    "plt.xlabel('Installs')\n",
    "plt.ylabel('Rating')"
   ]
  },
  {
   "cell_type": "code",
   "execution_count": 133,
   "metadata": {},
   "outputs": [
    {
     "data": {
      "text/plain": [
       "Text(0, 0.5, 'Rating')"
      ]
     },
     "execution_count": 133,
     "metadata": {},
     "output_type": "execute_result"
    },
    {
     "data": {
      "image/png": "[encoded data removed]",
      "text/plain": [
       "<Figure size 432x288 with 1 Axes>"
      ]
     },
     "metadata": {
      "needs_background": "light"
     },
     "output_type": "display_data"
    }
   ],
   "source": [
    "plt.scatter(data_na['Price'], data_na['Rating'])\n",
    "plt.xlabel('Price')\n",
    "plt.ylabel('Rating')"
   ]
  },
  {
   "cell_type": "code",
   "execution_count": 134,
   "metadata": {},
   "outputs": [
    {
     "data": {
      "text/plain": [
       "Text(0, 0.5, 'Rating')"
      ]
     },
     "execution_count": 134,
     "metadata": {},
     "output_type": "execute_result"
    },
    {
     "data": {
      "image/png": "[encoded data removed]",
      "text/plain": [
       "<Figure size 432x288 with 1 Axes>"
      ]
     },
     "metadata": {
      "needs_background": "light"
     },
     "output_type": "display_data"
    }
   ],
   "source": [
    "plt.scatter(data_na['Reviews'], data_na['Rating'])\n",
    "plt.xlabel('Reviews')\n",
    "plt.ylabel('Rating')"
   ]
  },
  {
   "cell_type": "code",
   "execution_count": 135,
   "metadata": {},
   "outputs": [
    {
     "data": {
      "text/plain": [
       "Text(0, 0.5, 'Price')"
      ]
     },
     "execution_count": 135,
     "metadata": {},
     "output_type": "execute_result"
    },
    {
     "data": {
      "image/png": "[encoded data removed]",
      "text/plain": [
       "<Figure size 432x288 with 1 Axes>"
      ]
     },
     "metadata": {
      "needs_background": "light"
     },
     "output_type": "display_data"
    }
   ],
   "source": [
    "plt.scatter(data_na['Installs'], data_na['Price'])\n",
    "plt.xlabel('Installs')\n",
    "plt.ylabel('Price')"
   ]
  },
  {
   "cell_type": "code",
   "execution_count": 136,
   "metadata": {},
   "outputs": [
    {
     "data": {
      "text/plain": [
       "Text(0, 0.5, 'Reviews')"
      ]
     },
     "execution_count": 136,
     "metadata": {},
     "output_type": "execute_result"
    },
    {
     "data": {
      "image/png": "[encoded data removed]",
      "text/plain": [
       "<Figure size 432x288 with 1 Axes>"
      ]
     },
     "metadata": {
      "needs_background": "light"
     },
     "output_type": "display_data"
    }
   ],
   "source": [
    "plt.scatter(data_na['Installs'], data_na['Reviews'])\n",
    "plt.xlabel('Installs')\n",
    "plt.ylabel('Reviews')"
   ]
  },
  {
   "cell_type": "code",
   "execution_count": 137,
   "metadata": {},
   "outputs": [
    {
     "data": {
      "text/plain": [
       "Text(0, 0.5, 'Reviews')"
      ]
     },
     "execution_count": 137,
     "metadata": {},
     "output_type": "execute_result"
    },
    {
     "data": {
      "image/png": "[encoded data removed]",
      "text/plain": [
       "<Figure size 432x288 with 1 Axes>"
      ]
     },
     "metadata": {
      "needs_background": "light"
     },
     "output_type": "display_data"
    }
   ],
   "source": [
    "plt.scatter(data_na['Price'], data_na['Reviews'])\n",
    "plt.xlabel('Price')\n",
    "plt.ylabel('Reviews')"
   ]
  },
  {
   "cell_type": "code",
   "execution_count": 138,
   "metadata": {},
   "outputs": [
    {
     "data": {
      "text/plain": [
       "Text(0, 0.5, 'Size')"
      ]
     },
     "execution_count": 138,
     "metadata": {},
     "output_type": "execute_result"
    },
    {
     "data": {
      "image/png": "[encoded data removed]",
      "text/plain": [
       "<Figure size 432x288 with 1 Axes>"
      ]
     },
     "metadata": {
      "needs_background": "light"
     },
     "output_type": "display_data"
    }
   ],
   "source": [
    "plt.scatter(data_na['Installs'], data_na['Size'])\n",
    "plt.xlabel('Installs')\n",
    "plt.ylabel('Size')"
   ]
  },
  {
   "cell_type": "code",
   "execution_count": 139,
   "metadata": {},
   "outputs": [
    {
     "data": {
      "text/plain": [
       "0.05      0.00\n",
       "0.10      0.00\n",
       "0.20      0.00\n",
       "0.30      0.00\n",
       "0.40      0.00\n",
       "0.50      0.00\n",
       "0.70      0.00\n",
       "0.90      0.00\n",
       "0.95      1.99\n",
       "1.00    400.00\n",
       "Name: Price, dtype: float64"
      ]
     },
     "execution_count": 139,
     "metadata": {},
     "output_type": "execute_result"
    }
   ],
   "source": [
    "data_na['Price'].quantile([.05,.1,.2,.3,.4,.50,.70, .90, .95, 1])"
   ]
  },
  {
   "cell_type": "code",
   "execution_count": 140,
   "metadata": {},
   "outputs": [
    {
     "data": {
      "text/plain": [
       "0.005            1.0\n",
       "0.100            1.0\n",
       "0.200            1.0\n",
       "0.300           50.0\n",
       "0.400          500.0\n",
       "0.500        10000.0\n",
       "0.700       100000.0\n",
       "0.800      5000000.0\n",
       "0.900     10000000.0\n",
       "0.950     10000000.0\n",
       "0.960     50000000.0\n",
       "0.980    100000000.0\n",
       "1.000    500000000.0\n",
       "Name: Installs, dtype: float64"
      ]
     },
     "execution_count": 140,
     "metadata": {},
     "output_type": "execute_result"
    }
   ],
   "source": [
    "data_na['Installs'].quantile([.005,.1,.2,.3,.4,.50,.70, .8, .90, .95, .96, .98, 1])"
   ]
  },
  {
   "cell_type": "code",
   "execution_count": 141,
   "metadata": {},
   "outputs": [
    {
     "data": {
      "text/plain": [
       "0.05       2.1\n",
       "0.10       2.9\n",
       "0.20       4.3\n",
       "0.30       6.5\n",
       "0.40       9.5\n",
       "0.50      14.0\n",
       "0.70      27.0\n",
       "0.90      62.0\n",
       "0.95      91.0\n",
       "0.98     364.0\n",
       "1.00    1020.0\n",
       "Name: Size, dtype: float64"
      ]
     },
     "execution_count": 141,
     "metadata": {},
     "output_type": "execute_result"
    }
   ],
   "source": [
    "data_na['Size'].quantile([.05,.1,.2,.3,.4,.50,.70, .90, .95, .98, 1])"
   ]
  },
  {
   "cell_type": "code",
   "execution_count": 142,
   "metadata": {},
   "outputs": [
    {
     "data": {
      "text/plain": [
       "0.05           0.00\n",
       "0.10           2.00\n",
       "0.20          12.00\n",
       "0.30          52.00\n",
       "0.40         218.00\n",
       "0.50         969.50\n",
       "0.70       16412.00\n",
       "0.90      223414.50\n",
       "0.95      646187.75\n",
       "0.98     2056387.30\n",
       "1.00    78158306.00\n",
       "Name: Reviews, dtype: float64"
      ]
     },
     "execution_count": 142,
     "metadata": {},
     "output_type": "execute_result"
    }
   ],
   "source": [
    "data_na['Reviews'].quantile([.05,.1,.2,.3,.4,.50,.70, .90, .95, .98, 1])"
   ]
  },
  {
   "cell_type": "code",
   "execution_count": 143,
   "metadata": {},
   "outputs": [
    {
     "data": {
      "text/plain": [
       "(9132, 9)"
      ]
     },
     "execution_count": 143,
     "metadata": {},
     "output_type": "execute_result"
    }
   ],
   "source": [
    "rows_to_drop = data_na[\n",
    "    (data_na['Price'] > data_na['Price'].quantile(0.995)) | \n",
    "    (data_na['Size'] > data_na['Size'].quantile(0.995)) | \n",
    "    (data_na['Installs']  > data_na['Installs' ].quantile(0.95)) |\n",
    "    (data_na['Installs'] == 0)].index\n",
    "data_na = data_na.drop(rows_to_drop)\n",
    "data_na.shape"
   ]
  },
  {
   "cell_type": "code",
   "execution_count": 144,
   "metadata": {},
   "outputs": [
    {
     "data": {
      "text/plain": [
       "<matplotlib.collections.PathCollection at 0x1c25f578a90>"
      ]
     },
     "execution_count": 144,
     "metadata": {},
     "output_type": "execute_result"
    },
    {
     "data": {
      "image/png": "[encoded data removed]",
      "text/plain": [
       "<Figure size 432x288 with 1 Axes>"
      ]
     },
     "metadata": {
      "needs_background": "light"
     },
     "output_type": "display_data"
    }
   ],
   "source": [
    "plt.scatter(data_na['Installs'], data_na['Price'])"
   ]
  },
  {
   "cell_type": "markdown",
   "metadata": {},
   "source": [
    "## После избавления от выбросов можем заполнить некоторые пропущенные значения средним."
   ]
  },
  {
   "cell_type": "code",
   "execution_count": 145,
   "metadata": {},
   "outputs": [
    {
     "data": {
      "text/plain": [
       "Category             0\n",
       "Rating            1416\n",
       "Reviews              0\n",
       "Size              1027\n",
       "Installs             0\n",
       "Type                 0\n",
       "Price                0\n",
       "Content Rating       0\n",
       "Genres               0\n",
       "dtype: int64"
      ]
     },
     "execution_count": 145,
     "metadata": {},
     "output_type": "execute_result"
    }
   ],
   "source": [
    "data_na.isna().sum()"
   ]
  },
  {
   "cell_type": "markdown",
   "metadata": {},
   "source": [
    "Т. к. пропущенных значений все так же много, то заполним их при помощи медианны."
   ]
  },
  {
   "cell_type": "markdown",
   "metadata": {},
   "source": [
    "### Избавимся от строк с большими: ценой, размером, количеством установок, а так же от приложений, которые вообще не устанавливали."
   ]
  },
  {
   "cell_type": "code",
   "execution_count": 146,
   "metadata": {},
   "outputs": [
    {
     "data": {
      "text/plain": [
       "Category          0\n",
       "Rating            0\n",
       "Reviews           0\n",
       "Size              0\n",
       "Installs          0\n",
       "Type              0\n",
       "Price             0\n",
       "Content Rating    0\n",
       "Genres            0\n",
       "dtype: int64"
      ]
     },
     "execution_count": 146,
     "metadata": {},
     "output_type": "execute_result"
    }
   ],
   "source": [
    "col = [\"Rating\", \"Size\"]\n",
    "data_na.fillna(data_na[col].median(axis = 0), axis=0 , inplace=True)\n",
    "data_na.isna().sum()"
   ]
  },
  {
   "cell_type": "markdown",
   "metadata": {},
   "source": [
    "# Визуализация"
   ]
  },
  {
   "cell_type": "code",
   "execution_count": 147,
   "metadata": {},
   "outputs": [
    {
     "data": {
      "text/html": [
       "<div>\n",
       "<style scoped>\n",
       "    .dataframe tbody tr th:only-of-type {\n",
       "        vertical-align: middle;\n",
       "    }\n",
       "\n",
       "    .dataframe tbody tr th {\n",
       "        vertical-align: top;\n",
       "    }\n",
       "\n",
       "    .dataframe thead th {\n",
       "        text-align: right;\n",
       "    }\n",
       "</style>\n",
       "<table border=\"1\" class=\"dataframe\">\n",
       "  <thead>\n",
       "    <tr style=\"text-align: right;\">\n",
       "      <th></th>\n",
       "      <th>Rating</th>\n",
       "      <th>Reviews</th>\n",
       "      <th>Size</th>\n",
       "      <th>Installs</th>\n",
       "      <th>Price</th>\n",
       "      <th>Content Rating</th>\n",
       "    </tr>\n",
       "  </thead>\n",
       "  <tbody>\n",
       "    <tr>\n",
       "      <th>count</th>\n",
       "      <td>9132.000000</td>\n",
       "      <td>9.132000e+03</td>\n",
       "      <td>9132.000000</td>\n",
       "      <td>9.132000e+03</td>\n",
       "      <td>9132.000000</td>\n",
       "      <td>9132.000000</td>\n",
       "    </tr>\n",
       "    <tr>\n",
       "      <th>mean</th>\n",
       "      <td>4.185425</td>\n",
       "      <td>9.261476e+04</td>\n",
       "      <td>30.045127</td>\n",
       "      <td>1.401985e+06</td>\n",
       "      <td>0.271855</td>\n",
       "      <td>1.698423</td>\n",
       "    </tr>\n",
       "    <tr>\n",
       "      <th>std</th>\n",
       "      <td>0.504616</td>\n",
       "      <td>1.506804e+06</td>\n",
       "      <td>76.008653</td>\n",
       "      <td>3.158007e+06</td>\n",
       "      <td>1.247065</td>\n",
       "      <td>4.190480</td>\n",
       "    </tr>\n",
       "    <tr>\n",
       "      <th>min</th>\n",
       "      <td>1.000000</td>\n",
       "      <td>0.000000e+00</td>\n",
       "      <td>1.000000</td>\n",
       "      <td>1.000000e+00</td>\n",
       "      <td>0.000000</td>\n",
       "      <td>0.000000</td>\n",
       "    </tr>\n",
       "    <tr>\n",
       "      <th>25%</th>\n",
       "      <td>4.000000</td>\n",
       "      <td>2.200000e+01</td>\n",
       "      <td>5.900000</td>\n",
       "      <td>1.000000e+00</td>\n",
       "      <td>0.000000</td>\n",
       "      <td>0.000000</td>\n",
       "    </tr>\n",
       "    <tr>\n",
       "      <th>50%</th>\n",
       "      <td>4.300000</td>\n",
       "      <td>7.515000e+02</td>\n",
       "      <td>13.000000</td>\n",
       "      <td>1.000000e+04</td>\n",
       "      <td>0.000000</td>\n",
       "      <td>0.000000</td>\n",
       "    </tr>\n",
       "    <tr>\n",
       "      <th>75%</th>\n",
       "      <td>4.500000</td>\n",
       "      <td>2.123275e+04</td>\n",
       "      <td>27.000000</td>\n",
       "      <td>1.000000e+05</td>\n",
       "      <td>0.000000</td>\n",
       "      <td>0.000000</td>\n",
       "    </tr>\n",
       "    <tr>\n",
       "      <th>max</th>\n",
       "      <td>5.000000</td>\n",
       "      <td>7.815831e+07</td>\n",
       "      <td>862.000000</td>\n",
       "      <td>1.000000e+07</td>\n",
       "      <td>16.990000</td>\n",
       "      <td>18.000000</td>\n",
       "    </tr>\n",
       "  </tbody>\n",
       "</table>\n",
       "</div>"
      ],
      "text/plain": [
       "            Rating       Reviews         Size      Installs        Price  \\\n",
       "count  9132.000000  9.132000e+03  9132.000000  9.132000e+03  9132.000000   \n",
       "mean      4.185425  9.261476e+04    30.045127  1.401985e+06     0.271855   \n",
       "std       0.504616  1.506804e+06    76.008653  3.158007e+06     1.247065   \n",
       "min       1.000000  0.000000e+00     1.000000  1.000000e+00     0.000000   \n",
       "25%       4.000000  2.200000e+01     5.900000  1.000000e+00     0.000000   \n",
       "50%       4.300000  7.515000e+02    13.000000  1.000000e+04     0.000000   \n",
       "75%       4.500000  2.123275e+04    27.000000  1.000000e+05     0.000000   \n",
       "max       5.000000  7.815831e+07   862.000000  1.000000e+07    16.990000   \n",
       "\n",
       "       Content Rating  \n",
       "count     9132.000000  \n",
       "mean         1.698423  \n",
       "std          4.190480  \n",
       "min          0.000000  \n",
       "25%          0.000000  \n",
       "50%          0.000000  \n",
       "75%          0.000000  \n",
       "max         18.000000  "
      ]
     },
     "execution_count": 147,
     "metadata": {},
     "output_type": "execute_result"
    }
   ],
   "source": [
    "data_na.describe()"
   ]
  },
  {
   "cell_type": "markdown",
   "metadata": {},
   "source": [
    "Для каждого количественного признака приведены средние значения, стандартное отклонение, минимальное и макимальное значения, медиана и значения квартилей.\n",
    "\n",
    "По умолчанию этот метод дает информацию только о количественных признаках.\n",
    "Получил информацию о категориальных:"
   ]
  },
  {
   "cell_type": "code",
   "execution_count": 148,
   "metadata": {},
   "outputs": [
    {
     "data": {
      "text/html": [
       "<div>\n",
       "<style scoped>\n",
       "    .dataframe tbody tr th:only-of-type {\n",
       "        vertical-align: middle;\n",
       "    }\n",
       "\n",
       "    .dataframe tbody tr th {\n",
       "        vertical-align: top;\n",
       "    }\n",
       "\n",
       "    .dataframe thead th {\n",
       "        text-align: right;\n",
       "    }\n",
       "</style>\n",
       "<table border=\"1\" class=\"dataframe\">\n",
       "  <thead>\n",
       "    <tr style=\"text-align: right;\">\n",
       "      <th></th>\n",
       "      <th>Category</th>\n",
       "      <th>Type</th>\n",
       "      <th>Genres</th>\n",
       "    </tr>\n",
       "  </thead>\n",
       "  <tbody>\n",
       "    <tr>\n",
       "      <th>count</th>\n",
       "      <td>9132</td>\n",
       "      <td>9132</td>\n",
       "      <td>9132</td>\n",
       "    </tr>\n",
       "    <tr>\n",
       "      <th>unique</th>\n",
       "      <td>33</td>\n",
       "      <td>2</td>\n",
       "      <td>118</td>\n",
       "    </tr>\n",
       "    <tr>\n",
       "      <th>top</th>\n",
       "      <td>FAMILY</td>\n",
       "      <td>Free</td>\n",
       "      <td>Tools</td>\n",
       "    </tr>\n",
       "    <tr>\n",
       "      <th>freq</th>\n",
       "      <td>1772</td>\n",
       "      <td>8442</td>\n",
       "      <td>767</td>\n",
       "    </tr>\n",
       "  </tbody>\n",
       "</table>\n",
       "</div>"
      ],
      "text/plain": [
       "       Category  Type Genres\n",
       "count      9132  9132   9132\n",
       "unique       33     2    118\n",
       "top      FAMILY  Free  Tools\n",
       "freq       1772  8442    767"
      ]
     },
     "execution_count": 148,
     "metadata": {},
     "output_type": "execute_result"
    }
   ],
   "source": [
    "data_na.describe(include=['category'])"
   ]
  },
  {
   "cell_type": "markdown",
   "metadata": {},
   "source": [
    "## Заново построим некоторые графики и более подробно их рассмотрим. "
   ]
  },
  {
   "cell_type": "code",
   "execution_count": 149,
   "metadata": {},
   "outputs": [
    {
     "data": {
      "image/png": "[encoded data removed]",
      "text/plain": [
       "<Figure size 432x288 with 1 Axes>"
      ]
     },
     "metadata": {
      "needs_background": "light"
     },
     "output_type": "display_data"
    }
   ],
   "source": [
    "plt.scatter(data_na['Installs'], data_na['Rating'])\n",
    "plt.xlabel('Installs')\n",
    "plt.ylabel('Rating')\n",
    "pass"
   ]
  },
  {
   "cell_type": "code",
   "execution_count": 150,
   "metadata": {},
   "outputs": [
    {
     "data": {
      "image/png": "[encoded data removed]",
      "text/plain": [
       "<Figure size 432x288 with 1 Axes>"
      ]
     },
     "metadata": {
      "needs_background": "light"
     },
     "output_type": "display_data"
    }
   ],
   "source": [
    "plt.scatter(data_na['Installs'], data_na['Price'])\n",
    "plt.xlabel('Installs')\n",
    "plt.ylabel('Price')\n",
    "pass"
   ]
  },
  {
   "cell_type": "code",
   "execution_count": 151,
   "metadata": {},
   "outputs": [
    {
     "data": {
      "image/png": "[encoded data removed]",
      "text/plain": [
       "<Figure size 432x288 with 1 Axes>"
      ]
     },
     "metadata": {
      "needs_background": "light"
     },
     "output_type": "display_data"
    }
   ],
   "source": [
    "plt.scatter(data_na['Installs'], data_na['Reviews'])\n",
    "plt.xlabel('Installs')\n",
    "plt.ylabel('Reviews')\n",
    "pass"
   ]
  },
  {
   "cell_type": "code",
   "execution_count": 152,
   "metadata": {},
   "outputs": [
    {
     "data": {
      "text/plain": [
       "Text(0, 0.5, 'Rating')"
      ]
     },
     "execution_count": 152,
     "metadata": {},
     "output_type": "execute_result"
    },
    {
     "data": {
      "image/png": "[encoded data removed]",
      "text/plain": [
       "<Figure size 432x288 with 1 Axes>"
      ]
     },
     "metadata": {
      "needs_background": "light"
     },
     "output_type": "display_data"
    }
   ],
   "source": [
    "plt.scatter(data_na['Price'], data_na['Rating'])\n",
    "plt.xlabel('Price')\n",
    "plt.ylabel('Rating')"
   ]
  },
  {
   "cell_type": "code",
   "execution_count": 153,
   "metadata": {},
   "outputs": [
    {
     "data": {
      "text/plain": [
       "Text(0, 0.5, 'Reviews')"
      ]
     },
     "execution_count": 153,
     "metadata": {},
     "output_type": "execute_result"
    },
    {
     "data": {
      "image/png": "[encoded data removed]",
      "text/plain": [
       "<Figure size 432x288 with 1 Axes>"
      ]
     },
     "metadata": {
      "needs_background": "light"
     },
     "output_type": "display_data"
    }
   ],
   "source": [
    "plt.scatter(data_na['Price'], data_na['Reviews'])\n",
    "plt.xlabel('Price')\n",
    "plt.ylabel('Reviews')"
   ]
  },
  {
   "cell_type": "code",
   "execution_count": 154,
   "metadata": {},
   "outputs": [
    {
     "data": {
      "text/plain": [
       "Text(0, 0.5, 'Rating')"
      ]
     },
     "execution_count": 154,
     "metadata": {},
     "output_type": "execute_result"
    },
    {
     "data": {
      "image/png": "[encoded data removed]",
      "text/plain": [
       "<Figure size 432x288 with 1 Axes>"
      ]
     },
     "metadata": {
      "needs_background": "light"
     },
     "output_type": "display_data"
    }
   ],
   "source": [
    "plt.scatter(data_na['Reviews'], data_na['Rating'])\n",
    "plt.xlabel('Reviews')\n",
    "plt.ylabel('Rating')"
   ]
  },
  {
   "cell_type": "markdown",
   "metadata": {},
   "source": [
    "### Из полученных графиков можно сказать, что нет четкой зависимости между ценой и количеством скачиваний, ценой и оценкой и т.д, т.е. зависимость величин друг от друга достаточно низкая.\n",
    "### Но можно заметить, что есть особенности:\n",
    "    1. У приложений, которые скачивали большое количство раз оценка больше 3.5\n",
    "    2. У приложений с большим количеством отзывов оценка выше\n",
    "    3. У бесплатных(дешевых) оценка может быть любой\n",
    "    4. Приложения у которых стоймость больше рейтинг выше."
   ]
  },
  {
   "cell_type": "markdown",
   "metadata": {},
   "source": [
    "## Построим график цены от количества скачиваний с учетом категории приложений"
   ]
  },
  {
   "cell_type": "code",
   "execution_count": 155,
   "metadata": {},
   "outputs": [
    {
     "data": {
      "text/plain": [
       "<matplotlib.legend.Legend at 0x1c27954b070>"
      ]
     },
     "execution_count": 155,
     "metadata": {},
     "output_type": "execute_result"
    },
    {
     "data": {
      "image/png": "[encoded data removed]",
      "text/plain": [
       "<Figure size 720x576 with 1 Axes>"
      ]
     },
     "metadata": {
      "needs_background": "light"
     },
     "output_type": "display_data"
    }
   ],
   "source": [
    "random_subset = np.random.choice(np.arange(data_na.shape[0]), size=1000, replace=False)\n",
    "\n",
    "plt.figure(figsize = (10, 8))\n",
    "sns.scatterplot(x='Installs', y='Price', hue='Category', size='Rating', data=data_na.iloc[random_subset], alpha=0.7, legend=\"auto\")\n",
    "plt.legend()"
   ]
  },
  {
   "cell_type": "markdown",
   "metadata": {},
   "source": [
    "## Достаточно проблематично понять зависимость из-за большого количества категорий приложения и проблематично понять какой жанр наиболее популярен."
   ]
  },
  {
   "cell_type": "markdown",
   "metadata": {},
   "source": [
    "Построим все диаграммы рассеивания:"
   ]
  },
  {
   "cell_type": "code",
   "execution_count": 156,
   "metadata": {},
   "outputs": [],
   "source": [
    "random_subset = np.random.choice(np.arange(data_na.shape[0]), size=100, replace=False)\n",
    "# sns.pairplot(data_na.iloc[random_subset], hue='Category', diag_kind='hist')"
   ]
  },
  {
   "cell_type": "markdown",
   "metadata": {},
   "source": [
    "## Построим матрицу корреляции, чтобы убедиться в наших предположениях."
   ]
  },
  {
   "cell_type": "code",
   "execution_count": 268,
   "metadata": {},
   "outputs": [
    {
     "data": {
      "text/html": [
       "<div>\n",
       "<style scoped>\n",
       "    .dataframe tbody tr th:only-of-type {\n",
       "        vertical-align: middle;\n",
       "    }\n",
       "\n",
       "    .dataframe tbody tr th {\n",
       "        vertical-align: top;\n",
       "    }\n",
       "\n",
       "    .dataframe thead th {\n",
       "        text-align: right;\n",
       "    }\n",
       "</style>\n",
       "<table border=\"1\" class=\"dataframe\">\n",
       "  <thead>\n",
       "    <tr style=\"text-align: right;\">\n",
       "      <th></th>\n",
       "      <th>Rating</th>\n",
       "      <th>Reviews</th>\n",
       "      <th>Size</th>\n",
       "      <th>Installs</th>\n",
       "      <th>Type</th>\n",
       "      <th>Price</th>\n",
       "      <th>Content Rating</th>\n",
       "      <th>ART_AND_DESIGN</th>\n",
       "      <th>AUTO_AND_VEHICLES</th>\n",
       "      <th>BEAUTY</th>\n",
       "      <th>...</th>\n",
       "      <th>PERSONALIZATION</th>\n",
       "      <th>PHOTOGRAPHY</th>\n",
       "      <th>PRODUCTIVITY</th>\n",
       "      <th>SHOPPING</th>\n",
       "      <th>SOCIAL</th>\n",
       "      <th>SPORTS</th>\n",
       "      <th>TOOLS</th>\n",
       "      <th>TRAVEL_AND_LOCAL</th>\n",
       "      <th>VIDEO_PLAYERS</th>\n",
       "      <th>WEATHER</th>\n",
       "    </tr>\n",
       "  </thead>\n",
       "  <tbody>\n",
       "    <tr>\n",
       "      <th>Rating</th>\n",
       "      <td>1.000000</td>\n",
       "      <td>0.018454</td>\n",
       "      <td>-0.019876</td>\n",
       "      <td>0.080907</td>\n",
       "      <td>0.051532</td>\n",
       "      <td>0.030684</td>\n",
       "      <td>-0.004202</td>\n",
       "      <td>0.030343</td>\n",
       "      <td>0.003692</td>\n",
       "      <td>0.014778</td>\n",
       "      <td>...</td>\n",
       "      <td>0.052518</td>\n",
       "      <td>-0.016879</td>\n",
       "      <td>0.003388</td>\n",
       "      <td>0.010754</td>\n",
       "      <td>0.021213</td>\n",
       "      <td>0.019279</td>\n",
       "      <td>-0.078512</td>\n",
       "      <td>-0.028059</td>\n",
       "      <td>-0.037498</td>\n",
       "      <td>0.009602</td>\n",
       "    </tr>\n",
       "    <tr>\n",
       "      <th>Reviews</th>\n",
       "      <td>0.018454</td>\n",
       "      <td>1.000000</td>\n",
       "      <td>-0.004441</td>\n",
       "      <td>0.055288</td>\n",
       "      <td>-0.015774</td>\n",
       "      <td>-0.011591</td>\n",
       "      <td>0.023473</td>\n",
       "      <td>-0.003967</td>\n",
       "      <td>-0.005037</td>\n",
       "      <td>-0.004317</td>\n",
       "      <td>...</td>\n",
       "      <td>-0.008080</td>\n",
       "      <td>0.003231</td>\n",
       "      <td>-0.005659</td>\n",
       "      <td>-0.002974</td>\n",
       "      <td>0.069348</td>\n",
       "      <td>-0.003770</td>\n",
       "      <td>-0.009640</td>\n",
       "      <td>0.000004</td>\n",
       "      <td>0.013094</td>\n",
       "      <td>-0.001657</td>\n",
       "    </tr>\n",
       "    <tr>\n",
       "      <th>Size</th>\n",
       "      <td>-0.019876</td>\n",
       "      <td>-0.004441</td>\n",
       "      <td>1.000000</td>\n",
       "      <td>-0.003166</td>\n",
       "      <td>0.053460</td>\n",
       "      <td>0.019916</td>\n",
       "      <td>-0.009977</td>\n",
       "      <td>-0.018902</td>\n",
       "      <td>-0.010430</td>\n",
       "      <td>-0.016425</td>\n",
       "      <td>...</td>\n",
       "      <td>0.012354</td>\n",
       "      <td>-0.031163</td>\n",
       "      <td>-0.000637</td>\n",
       "      <td>-0.006772</td>\n",
       "      <td>-0.022730</td>\n",
       "      <td>-0.012948</td>\n",
       "      <td>0.035430</td>\n",
       "      <td>-0.013794</td>\n",
       "      <td>-0.016660</td>\n",
       "      <td>-0.011380</td>\n",
       "    </tr>\n",
       "    <tr>\n",
       "      <th>Installs</th>\n",
       "      <td>0.080907</td>\n",
       "      <td>0.055288</td>\n",
       "      <td>-0.003166</td>\n",
       "      <td>1.000000</td>\n",
       "      <td>-0.122111</td>\n",
       "      <td>-0.092764</td>\n",
       "      <td>0.071136</td>\n",
       "      <td>-0.010724</td>\n",
       "      <td>-0.028204</td>\n",
       "      <td>-0.025158</td>\n",
       "      <td>...</td>\n",
       "      <td>-0.011194</td>\n",
       "      <td>0.079078</td>\n",
       "      <td>0.001901</td>\n",
       "      <td>0.061227</td>\n",
       "      <td>0.021439</td>\n",
       "      <td>0.012100</td>\n",
       "      <td>-0.003204</td>\n",
       "      <td>0.014090</td>\n",
       "      <td>0.024662</td>\n",
       "      <td>0.013428</td>\n",
       "    </tr>\n",
       "    <tr>\n",
       "      <th>Type</th>\n",
       "      <td>0.051532</td>\n",
       "      <td>-0.015774</td>\n",
       "      <td>0.053460</td>\n",
       "      <td>-0.122111</td>\n",
       "      <td>1.000000</td>\n",
       "      <td>0.762553</td>\n",
       "      <td>-0.027876</td>\n",
       "      <td>-0.008185</td>\n",
       "      <td>-0.014526</td>\n",
       "      <td>-0.021843</td>\n",
       "      <td>...</td>\n",
       "      <td>0.109081</td>\n",
       "      <td>-0.002747</td>\n",
       "      <td>0.002867</td>\n",
       "      <td>-0.035741</td>\n",
       "      <td>-0.039631</td>\n",
       "      <td>-0.003757</td>\n",
       "      <td>0.025336</td>\n",
       "      <td>-0.013632</td>\n",
       "      <td>-0.023228</td>\n",
       "      <td>0.010711</td>\n",
       "    </tr>\n",
       "    <tr>\n",
       "      <th>Price</th>\n",
       "      <td>0.030684</td>\n",
       "      <td>-0.011591</td>\n",
       "      <td>0.019916</td>\n",
       "      <td>-0.092764</td>\n",
       "      <td>0.762553</td>\n",
       "      <td>1.000000</td>\n",
       "      <td>-0.009999</td>\n",
       "      <td>-0.011442</td>\n",
       "      <td>-0.008615</td>\n",
       "      <td>-0.016657</td>\n",
       "      <td>...</td>\n",
       "      <td>0.022408</td>\n",
       "      <td>0.001830</td>\n",
       "      <td>0.001628</td>\n",
       "      <td>-0.028313</td>\n",
       "      <td>-0.033201</td>\n",
       "      <td>-0.009596</td>\n",
       "      <td>0.009649</td>\n",
       "      <td>-0.006664</td>\n",
       "      <td>-0.020465</td>\n",
       "      <td>0.011706</td>\n",
       "    </tr>\n",
       "    <tr>\n",
       "      <th>Content Rating</th>\n",
       "      <td>-0.004202</td>\n",
       "      <td>0.023473</td>\n",
       "      <td>-0.009977</td>\n",
       "      <td>0.071136</td>\n",
       "      <td>-0.027876</td>\n",
       "      <td>-0.009999</td>\n",
       "      <td>1.000000</td>\n",
       "      <td>-0.026181</td>\n",
       "      <td>-0.034674</td>\n",
       "      <td>0.000682</td>\n",
       "      <td>...</td>\n",
       "      <td>-0.014338</td>\n",
       "      <td>-0.052697</td>\n",
       "      <td>-0.068389</td>\n",
       "      <td>-0.026984</td>\n",
       "      <td>0.155885</td>\n",
       "      <td>-0.045621</td>\n",
       "      <td>-0.117173</td>\n",
       "      <td>-0.052943</td>\n",
       "      <td>-0.017495</td>\n",
       "      <td>-0.025302</td>\n",
       "    </tr>\n",
       "    <tr>\n",
       "      <th>ART_AND_DESIGN</th>\n",
       "      <td>0.030343</td>\n",
       "      <td>-0.003967</td>\n",
       "      <td>-0.018902</td>\n",
       "      <td>-0.010724</td>\n",
       "      <td>-0.008185</td>\n",
       "      <td>-0.011442</td>\n",
       "      <td>-0.026181</td>\n",
       "      <td>1.000000</td>\n",
       "      <td>-0.007901</td>\n",
       "      <td>-0.006266</td>\n",
       "      <td>...</td>\n",
       "      <td>-0.016540</td>\n",
       "      <td>-0.013443</td>\n",
       "      <td>-0.016126</td>\n",
       "      <td>-0.011921</td>\n",
       "      <td>-0.012914</td>\n",
       "      <td>-0.015449</td>\n",
       "      <td>-0.024849</td>\n",
       "      <td>-0.012612</td>\n",
       "      <td>-0.010453</td>\n",
       "      <td>-0.007462</td>\n",
       "    </tr>\n",
       "    <tr>\n",
       "      <th>AUTO_AND_VEHICLES</th>\n",
       "      <td>0.003692</td>\n",
       "      <td>-0.005037</td>\n",
       "      <td>-0.010430</td>\n",
       "      <td>-0.028204</td>\n",
       "      <td>-0.014526</td>\n",
       "      <td>-0.008615</td>\n",
       "      <td>-0.034674</td>\n",
       "      <td>-0.007901</td>\n",
       "      <td>1.000000</td>\n",
       "      <td>-0.007362</td>\n",
       "      <td>...</td>\n",
       "      <td>-0.019435</td>\n",
       "      <td>-0.015796</td>\n",
       "      <td>-0.018948</td>\n",
       "      <td>-0.014007</td>\n",
       "      <td>-0.015174</td>\n",
       "      <td>-0.018152</td>\n",
       "      <td>-0.029197</td>\n",
       "      <td>-0.014818</td>\n",
       "      <td>-0.012282</td>\n",
       "      <td>-0.008768</td>\n",
       "    </tr>\n",
       "    <tr>\n",
       "      <th>BEAUTY</th>\n",
       "      <td>0.014778</td>\n",
       "      <td>-0.004317</td>\n",
       "      <td>-0.016425</td>\n",
       "      <td>-0.025158</td>\n",
       "      <td>-0.021843</td>\n",
       "      <td>-0.016657</td>\n",
       "      <td>0.000682</td>\n",
       "      <td>-0.006266</td>\n",
       "      <td>-0.007362</td>\n",
       "      <td>1.000000</td>\n",
       "      <td>...</td>\n",
       "      <td>-0.015411</td>\n",
       "      <td>-0.012525</td>\n",
       "      <td>-0.015025</td>\n",
       "      <td>-0.011107</td>\n",
       "      <td>-0.012032</td>\n",
       "      <td>-0.014394</td>\n",
       "      <td>-0.023152</td>\n",
       "      <td>-0.011750</td>\n",
       "      <td>-0.009739</td>\n",
       "      <td>-0.006953</td>\n",
       "    </tr>\n",
       "    <tr>\n",
       "      <th>BOOKS_AND_REFERENCE</th>\n",
       "      <td>0.044991</td>\n",
       "      <td>-0.004759</td>\n",
       "      <td>-0.008010</td>\n",
       "      <td>-0.012691</td>\n",
       "      <td>0.032123</td>\n",
       "      <td>0.035515</td>\n",
       "      <td>-0.033293</td>\n",
       "      <td>-0.012733</td>\n",
       "      <td>-0.014961</td>\n",
       "      <td>-0.011864</td>\n",
       "      <td>...</td>\n",
       "      <td>-0.031320</td>\n",
       "      <td>-0.025456</td>\n",
       "      <td>-0.030536</td>\n",
       "      <td>-0.022574</td>\n",
       "      <td>-0.024454</td>\n",
       "      <td>-0.029253</td>\n",
       "      <td>-0.047053</td>\n",
       "      <td>-0.023881</td>\n",
       "      <td>-0.019793</td>\n",
       "      <td>-0.014130</td>\n",
       "    </tr>\n",
       "    <tr>\n",
       "      <th>BUSINESS</th>\n",
       "      <td>-0.003351</td>\n",
       "      <td>-0.011511</td>\n",
       "      <td>-0.031859</td>\n",
       "      <td>-0.059929</td>\n",
       "      <td>-0.043575</td>\n",
       "      <td>-0.026826</td>\n",
       "      <td>-0.073990</td>\n",
       "      <td>-0.017689</td>\n",
       "      <td>-0.020784</td>\n",
       "      <td>-0.016481</td>\n",
       "      <td>...</td>\n",
       "      <td>-0.043508</td>\n",
       "      <td>-0.035361</td>\n",
       "      <td>-0.042418</td>\n",
       "      <td>-0.031358</td>\n",
       "      <td>-0.033969</td>\n",
       "      <td>-0.040637</td>\n",
       "      <td>-0.065363</td>\n",
       "      <td>-0.033173</td>\n",
       "      <td>-0.027495</td>\n",
       "      <td>-0.019629</td>\n",
       "    </tr>\n",
       "    <tr>\n",
       "      <th>COMICS</th>\n",
       "      <td>0.000045</td>\n",
       "      <td>-0.002648</td>\n",
       "      <td>0.002517</td>\n",
       "      <td>-0.019780</td>\n",
       "      <td>-0.022457</td>\n",
       "      <td>-0.017125</td>\n",
       "      <td>0.064569</td>\n",
       "      <td>-0.006441</td>\n",
       "      <td>-0.007569</td>\n",
       "      <td>-0.006002</td>\n",
       "      <td>...</td>\n",
       "      <td>-0.015844</td>\n",
       "      <td>-0.012877</td>\n",
       "      <td>-0.015447</td>\n",
       "      <td>-0.011419</td>\n",
       "      <td>-0.012370</td>\n",
       "      <td>-0.014798</td>\n",
       "      <td>-0.023802</td>\n",
       "      <td>-0.012080</td>\n",
       "      <td>-0.010012</td>\n",
       "      <td>-0.007148</td>\n",
       "    </tr>\n",
       "    <tr>\n",
       "      <th>COMMUNICATION</th>\n",
       "      <td>-0.017377</td>\n",
       "      <td>0.060215</td>\n",
       "      <td>0.029673</td>\n",
       "      <td>0.030113</td>\n",
       "      <td>0.008648</td>\n",
       "      <td>-0.008501</td>\n",
       "      <td>-0.035387</td>\n",
       "      <td>-0.014665</td>\n",
       "      <td>-0.017231</td>\n",
       "      <td>-0.013664</td>\n",
       "      <td>...</td>\n",
       "      <td>-0.036071</td>\n",
       "      <td>-0.029317</td>\n",
       "      <td>-0.035168</td>\n",
       "      <td>-0.025998</td>\n",
       "      <td>-0.028163</td>\n",
       "      <td>-0.033691</td>\n",
       "      <td>-0.054190</td>\n",
       "      <td>-0.027503</td>\n",
       "      <td>-0.022795</td>\n",
       "      <td>-0.016274</td>\n",
       "    </tr>\n",
       "    <tr>\n",
       "      <th>DATING</th>\n",
       "      <td>-0.039396</td>\n",
       "      <td>-0.006548</td>\n",
       "      <td>-0.026292</td>\n",
       "      <td>-0.030142</td>\n",
       "      <td>-0.021153</td>\n",
       "      <td>-0.012339</td>\n",
       "      <td>0.457600</td>\n",
       "      <td>-0.011328</td>\n",
       "      <td>-0.013310</td>\n",
       "      <td>-0.010555</td>\n",
       "      <td>...</td>\n",
       "      <td>-0.027863</td>\n",
       "      <td>-0.022646</td>\n",
       "      <td>-0.027165</td>\n",
       "      <td>-0.020082</td>\n",
       "      <td>-0.021755</td>\n",
       "      <td>-0.026024</td>\n",
       "      <td>-0.041859</td>\n",
       "      <td>-0.021245</td>\n",
       "      <td>-0.017608</td>\n",
       "      <td>-0.012571</td>\n",
       "    </tr>\n",
       "    <tr>\n",
       "      <th>EDUCATION</th>\n",
       "      <td>0.039815</td>\n",
       "      <td>-0.002480</td>\n",
       "      <td>-0.004992</td>\n",
       "      <td>0.013362</td>\n",
       "      <td>-0.018035</td>\n",
       "      <td>-0.010978</td>\n",
       "      <td>-0.025550</td>\n",
       "      <td>-0.009383</td>\n",
       "      <td>-0.011024</td>\n",
       "      <td>-0.008742</td>\n",
       "      <td>...</td>\n",
       "      <td>-0.023078</td>\n",
       "      <td>-0.018757</td>\n",
       "      <td>-0.022500</td>\n",
       "      <td>-0.016633</td>\n",
       "      <td>-0.018018</td>\n",
       "      <td>-0.021555</td>\n",
       "      <td>-0.034670</td>\n",
       "      <td>-0.017596</td>\n",
       "      <td>-0.014584</td>\n",
       "      <td>-0.010412</td>\n",
       "    </tr>\n",
       "    <tr>\n",
       "      <th>ENTERTAINMENT</th>\n",
       "      <td>-0.012733</td>\n",
       "      <td>0.005535</td>\n",
       "      <td>-0.015384</td>\n",
       "      <td>0.068989</td>\n",
       "      <td>-0.020543</td>\n",
       "      <td>-0.014976</td>\n",
       "      <td>0.074252</td>\n",
       "      <td>-0.008273</td>\n",
       "      <td>-0.009720</td>\n",
       "      <td>-0.007708</td>\n",
       "      <td>...</td>\n",
       "      <td>-0.020348</td>\n",
       "      <td>-0.016538</td>\n",
       "      <td>-0.019838</td>\n",
       "      <td>-0.014666</td>\n",
       "      <td>-0.015887</td>\n",
       "      <td>-0.019005</td>\n",
       "      <td>-0.030569</td>\n",
       "      <td>-0.015515</td>\n",
       "      <td>-0.012859</td>\n",
       "      <td>-0.009180</td>\n",
       "    </tr>\n",
       "    <tr>\n",
       "      <th>EVENTS</th>\n",
       "      <td>0.034919</td>\n",
       "      <td>-0.004982</td>\n",
       "      <td>-0.011818</td>\n",
       "      <td>-0.031991</td>\n",
       "      <td>-0.023828</td>\n",
       "      <td>-0.018170</td>\n",
       "      <td>-0.009156</td>\n",
       "      <td>-0.006835</td>\n",
       "      <td>-0.008031</td>\n",
       "      <td>-0.006368</td>\n",
       "      <td>...</td>\n",
       "      <td>-0.016811</td>\n",
       "      <td>-0.013664</td>\n",
       "      <td>-0.016390</td>\n",
       "      <td>-0.012117</td>\n",
       "      <td>-0.013126</td>\n",
       "      <td>-0.015702</td>\n",
       "      <td>-0.025256</td>\n",
       "      <td>-0.012818</td>\n",
       "      <td>-0.010624</td>\n",
       "      <td>-0.007585</td>\n",
       "    </tr>\n",
       "    <tr>\n",
       "      <th>FAMILY</th>\n",
       "      <td>0.005722</td>\n",
       "      <td>-0.015757</td>\n",
       "      <td>0.018292</td>\n",
       "      <td>-0.049539</td>\n",
       "      <td>0.036786</td>\n",
       "      <td>0.032157</td>\n",
       "      <td>0.018133</td>\n",
       "      <td>-0.040237</td>\n",
       "      <td>-0.047278</td>\n",
       "      <td>-0.037490</td>\n",
       "      <td>...</td>\n",
       "      <td>-0.098970</td>\n",
       "      <td>-0.080439</td>\n",
       "      <td>-0.096491</td>\n",
       "      <td>-0.071332</td>\n",
       "      <td>-0.077273</td>\n",
       "      <td>-0.092439</td>\n",
       "      <td>-0.148685</td>\n",
       "      <td>-0.075462</td>\n",
       "      <td>-0.062544</td>\n",
       "      <td>-0.044651</td>\n",
       "    </tr>\n",
       "    <tr>\n",
       "      <th>FINANCE</th>\n",
       "      <td>-0.018274</td>\n",
       "      <td>-0.007415</td>\n",
       "      <td>-0.022250</td>\n",
       "      <td>-0.040244</td>\n",
       "      <td>-0.042248</td>\n",
       "      <td>-0.031582</td>\n",
       "      <td>-0.075378</td>\n",
       "      <td>-0.015928</td>\n",
       "      <td>-0.018715</td>\n",
       "      <td>-0.014840</td>\n",
       "      <td>...</td>\n",
       "      <td>-0.039178</td>\n",
       "      <td>-0.031842</td>\n",
       "      <td>-0.038196</td>\n",
       "      <td>-0.028237</td>\n",
       "      <td>-0.030589</td>\n",
       "      <td>-0.036592</td>\n",
       "      <td>-0.058857</td>\n",
       "      <td>-0.029872</td>\n",
       "      <td>-0.024758</td>\n",
       "      <td>-0.017675</td>\n",
       "    </tr>\n",
       "    <tr>\n",
       "      <th>FOOD_AND_DRINK</th>\n",
       "      <td>0.001641</td>\n",
       "      <td>-0.002673</td>\n",
       "      <td>-0.016357</td>\n",
       "      <td>0.009066</td>\n",
       "      <td>-0.024328</td>\n",
       "      <td>-0.017527</td>\n",
       "      <td>-0.029020</td>\n",
       "      <td>-0.009138</td>\n",
       "      <td>-0.010737</td>\n",
       "      <td>-0.008514</td>\n",
       "      <td>...</td>\n",
       "      <td>-0.022476</td>\n",
       "      <td>-0.018268</td>\n",
       "      <td>-0.021913</td>\n",
       "      <td>-0.016199</td>\n",
       "      <td>-0.017548</td>\n",
       "      <td>-0.020993</td>\n",
       "      <td>-0.033766</td>\n",
       "      <td>-0.017137</td>\n",
       "      <td>-0.014204</td>\n",
       "      <td>-0.010140</td>\n",
       "    </tr>\n",
       "    <tr>\n",
       "      <th>GAME</th>\n",
       "      <td>0.027951</td>\n",
       "      <td>0.015719</td>\n",
       "      <td>0.041860</td>\n",
       "      <td>0.142075</td>\n",
       "      <td>0.024648</td>\n",
       "      <td>0.011181</td>\n",
       "      <td>0.196936</td>\n",
       "      <td>-0.026169</td>\n",
       "      <td>-0.030747</td>\n",
       "      <td>-0.024382</td>\n",
       "      <td>...</td>\n",
       "      <td>-0.064366</td>\n",
       "      <td>-0.052314</td>\n",
       "      <td>-0.062754</td>\n",
       "      <td>-0.046391</td>\n",
       "      <td>-0.050255</td>\n",
       "      <td>-0.060119</td>\n",
       "      <td>-0.096699</td>\n",
       "      <td>-0.049077</td>\n",
       "      <td>-0.040676</td>\n",
       "      <td>-0.029039</td>\n",
       "    </tr>\n",
       "    <tr>\n",
       "      <th>HEALTH_AND_FITNESS</th>\n",
       "      <td>0.022092</td>\n",
       "      <td>-0.004902</td>\n",
       "      <td>-0.015320</td>\n",
       "      <td>0.008548</td>\n",
       "      <td>-0.015107</td>\n",
       "      <td>-0.006250</td>\n",
       "      <td>-0.033379</td>\n",
       "      <td>-0.014638</td>\n",
       "      <td>-0.017200</td>\n",
       "      <td>-0.013639</td>\n",
       "      <td>...</td>\n",
       "      <td>-0.036005</td>\n",
       "      <td>-0.029264</td>\n",
       "      <td>-0.035103</td>\n",
       "      <td>-0.025950</td>\n",
       "      <td>-0.028112</td>\n",
       "      <td>-0.033629</td>\n",
       "      <td>-0.054091</td>\n",
       "      <td>-0.027453</td>\n",
       "      <td>-0.022753</td>\n",
       "      <td>-0.016244</td>\n",
       "    </tr>\n",
       "    <tr>\n",
       "      <th>HOUSE_AND_HOME</th>\n",
       "      <td>-0.001988</td>\n",
       "      <td>-0.003991</td>\n",
       "      <td>-0.006779</td>\n",
       "      <td>-0.010651</td>\n",
       "      <td>-0.025841</td>\n",
       "      <td>-0.019705</td>\n",
       "      <td>-0.033138</td>\n",
       "      <td>-0.007412</td>\n",
       "      <td>-0.008709</td>\n",
       "      <td>-0.006906</td>\n",
       "      <td>...</td>\n",
       "      <td>-0.018231</td>\n",
       "      <td>-0.014817</td>\n",
       "      <td>-0.017774</td>\n",
       "      <td>-0.013140</td>\n",
       "      <td>-0.014234</td>\n",
       "      <td>-0.017028</td>\n",
       "      <td>-0.027389</td>\n",
       "      <td>-0.013901</td>\n",
       "      <td>-0.011521</td>\n",
       "      <td>-0.008225</td>\n",
       "    </tr>\n",
       "    <tr>\n",
       "      <th>LIBRARIES_AND_DEMO</th>\n",
       "      <td>0.004367</td>\n",
       "      <td>-0.005208</td>\n",
       "      <td>0.186927</td>\n",
       "      <td>-0.026082</td>\n",
       "      <td>-0.023014</td>\n",
       "      <td>-0.019963</td>\n",
       "      <td>-0.038819</td>\n",
       "      <td>-0.007854</td>\n",
       "      <td>-0.009228</td>\n",
       "      <td>-0.007317</td>\n",
       "      <td>...</td>\n",
       "      <td>-0.019317</td>\n",
       "      <td>-0.015701</td>\n",
       "      <td>-0.018834</td>\n",
       "      <td>-0.013923</td>\n",
       "      <td>-0.015082</td>\n",
       "      <td>-0.018043</td>\n",
       "      <td>-0.029021</td>\n",
       "      <td>-0.014729</td>\n",
       "      <td>-0.012208</td>\n",
       "      <td>-0.008715</td>\n",
       "    </tr>\n",
       "    <tr>\n",
       "      <th>LIFESTYLE</th>\n",
       "      <td>-0.019255</td>\n",
       "      <td>-0.009049</td>\n",
       "      <td>-0.018673</td>\n",
       "      <td>-0.034150</td>\n",
       "      <td>-0.034150</td>\n",
       "      <td>-0.027236</td>\n",
       "      <td>-0.038608</td>\n",
       "      <td>-0.016540</td>\n",
       "      <td>-0.019435</td>\n",
       "      <td>-0.015411</td>\n",
       "      <td>...</td>\n",
       "      <td>-0.040684</td>\n",
       "      <td>-0.033066</td>\n",
       "      <td>-0.039665</td>\n",
       "      <td>-0.029322</td>\n",
       "      <td>-0.031765</td>\n",
       "      <td>-0.037999</td>\n",
       "      <td>-0.061120</td>\n",
       "      <td>-0.031020</td>\n",
       "      <td>-0.025710</td>\n",
       "      <td>-0.018355</td>\n",
       "    </tr>\n",
       "    <tr>\n",
       "      <th>MAPS_AND_NAVIGATION</th>\n",
       "      <td>-0.031039</td>\n",
       "      <td>-0.005110</td>\n",
       "      <td>-0.002915</td>\n",
       "      <td>0.000064</td>\n",
       "      <td>-0.016261</td>\n",
       "      <td>-0.005681</td>\n",
       "      <td>-0.039209</td>\n",
       "      <td>-0.009739</td>\n",
       "      <td>-0.011443</td>\n",
       "      <td>-0.009074</td>\n",
       "      <td>...</td>\n",
       "      <td>-0.023954</td>\n",
       "      <td>-0.019469</td>\n",
       "      <td>-0.023354</td>\n",
       "      <td>-0.017264</td>\n",
       "      <td>-0.018702</td>\n",
       "      <td>-0.022373</td>\n",
       "      <td>-0.035986</td>\n",
       "      <td>-0.018264</td>\n",
       "      <td>-0.015137</td>\n",
       "      <td>-0.010807</td>\n",
       "    </tr>\n",
       "    <tr>\n",
       "      <th>MEDICAL</th>\n",
       "      <td>0.009924</td>\n",
       "      <td>-0.012343</td>\n",
       "      <td>0.001965</td>\n",
       "      <td>-0.088430</td>\n",
       "      <td>0.086194</td>\n",
       "      <td>0.132716</td>\n",
       "      <td>-0.059562</td>\n",
       "      <td>-0.017040</td>\n",
       "      <td>-0.020022</td>\n",
       "      <td>-0.015877</td>\n",
       "      <td>...</td>\n",
       "      <td>-0.041913</td>\n",
       "      <td>-0.034066</td>\n",
       "      <td>-0.040864</td>\n",
       "      <td>-0.030209</td>\n",
       "      <td>-0.032725</td>\n",
       "      <td>-0.039148</td>\n",
       "      <td>-0.062967</td>\n",
       "      <td>-0.031958</td>\n",
       "      <td>-0.026487</td>\n",
       "      <td>-0.018910</td>\n",
       "    </tr>\n",
       "    <tr>\n",
       "      <th>NEWS_AND_MAGAZINES</th>\n",
       "      <td>-0.010448</td>\n",
       "      <td>-0.006201</td>\n",
       "      <td>-0.035752</td>\n",
       "      <td>-0.016641</td>\n",
       "      <td>-0.042886</td>\n",
       "      <td>-0.034433</td>\n",
       "      <td>0.059800</td>\n",
       "      <td>-0.013758</td>\n",
       "      <td>-0.016165</td>\n",
       "      <td>-0.012818</td>\n",
       "      <td>...</td>\n",
       "      <td>-0.033840</td>\n",
       "      <td>-0.027504</td>\n",
       "      <td>-0.032992</td>\n",
       "      <td>-0.024390</td>\n",
       "      <td>-0.026421</td>\n",
       "      <td>-0.031607</td>\n",
       "      <td>-0.050838</td>\n",
       "      <td>-0.025802</td>\n",
       "      <td>-0.021385</td>\n",
       "      <td>-0.015267</td>\n",
       "    </tr>\n",
       "    <tr>\n",
       "      <th>PARENTING</th>\n",
       "      <td>0.018466</td>\n",
       "      <td>-0.004137</td>\n",
       "      <td>-0.009077</td>\n",
       "      <td>-0.028157</td>\n",
       "      <td>-0.012993</td>\n",
       "      <td>-0.007317</td>\n",
       "      <td>-0.025200</td>\n",
       "      <td>-0.006669</td>\n",
       "      <td>-0.007836</td>\n",
       "      <td>-0.006214</td>\n",
       "      <td>...</td>\n",
       "      <td>-0.016403</td>\n",
       "      <td>-0.013332</td>\n",
       "      <td>-0.015993</td>\n",
       "      <td>-0.011823</td>\n",
       "      <td>-0.012807</td>\n",
       "      <td>-0.015321</td>\n",
       "      <td>-0.024643</td>\n",
       "      <td>-0.012507</td>\n",
       "      <td>-0.010366</td>\n",
       "      <td>-0.007401</td>\n",
       "    </tr>\n",
       "    <tr>\n",
       "      <th>PERSONALIZATION</th>\n",
       "      <td>0.052518</td>\n",
       "      <td>-0.008080</td>\n",
       "      <td>0.012354</td>\n",
       "      <td>-0.011194</td>\n",
       "      <td>0.109081</td>\n",
       "      <td>0.022408</td>\n",
       "      <td>-0.014338</td>\n",
       "      <td>-0.016540</td>\n",
       "      <td>-0.019435</td>\n",
       "      <td>-0.015411</td>\n",
       "      <td>...</td>\n",
       "      <td>1.000000</td>\n",
       "      <td>-0.033066</td>\n",
       "      <td>-0.039665</td>\n",
       "      <td>-0.029322</td>\n",
       "      <td>-0.031765</td>\n",
       "      <td>-0.037999</td>\n",
       "      <td>-0.061120</td>\n",
       "      <td>-0.031020</td>\n",
       "      <td>-0.025710</td>\n",
       "      <td>-0.018355</td>\n",
       "    </tr>\n",
       "    <tr>\n",
       "      <th>PHOTOGRAPHY</th>\n",
       "      <td>-0.016879</td>\n",
       "      <td>0.003231</td>\n",
       "      <td>-0.031163</td>\n",
       "      <td>0.079078</td>\n",
       "      <td>-0.002747</td>\n",
       "      <td>0.001830</td>\n",
       "      <td>-0.052697</td>\n",
       "      <td>-0.013443</td>\n",
       "      <td>-0.015796</td>\n",
       "      <td>-0.012525</td>\n",
       "      <td>...</td>\n",
       "      <td>-0.033066</td>\n",
       "      <td>1.000000</td>\n",
       "      <td>-0.032238</td>\n",
       "      <td>-0.023832</td>\n",
       "      <td>-0.025817</td>\n",
       "      <td>-0.030884</td>\n",
       "      <td>-0.049676</td>\n",
       "      <td>-0.025212</td>\n",
       "      <td>-0.020896</td>\n",
       "      <td>-0.014918</td>\n",
       "    </tr>\n",
       "    <tr>\n",
       "      <th>PRODUCTIVITY</th>\n",
       "      <td>0.003388</td>\n",
       "      <td>-0.005659</td>\n",
       "      <td>-0.000637</td>\n",
       "      <td>0.001901</td>\n",
       "      <td>0.002867</td>\n",
       "      <td>0.001628</td>\n",
       "      <td>-0.068389</td>\n",
       "      <td>-0.016126</td>\n",
       "      <td>-0.018948</td>\n",
       "      <td>-0.015025</td>\n",
       "      <td>...</td>\n",
       "      <td>-0.039665</td>\n",
       "      <td>-0.032238</td>\n",
       "      <td>1.000000</td>\n",
       "      <td>-0.028588</td>\n",
       "      <td>-0.030969</td>\n",
       "      <td>-0.037047</td>\n",
       "      <td>-0.059589</td>\n",
       "      <td>-0.030243</td>\n",
       "      <td>-0.025066</td>\n",
       "      <td>-0.017895</td>\n",
       "    </tr>\n",
       "    <tr>\n",
       "      <th>SHOPPING</th>\n",
       "      <td>0.010754</td>\n",
       "      <td>-0.002974</td>\n",
       "      <td>-0.006772</td>\n",
       "      <td>0.061227</td>\n",
       "      <td>-0.035741</td>\n",
       "      <td>-0.028313</td>\n",
       "      <td>-0.026984</td>\n",
       "      <td>-0.011921</td>\n",
       "      <td>-0.014007</td>\n",
       "      <td>-0.011107</td>\n",
       "      <td>...</td>\n",
       "      <td>-0.029322</td>\n",
       "      <td>-0.023832</td>\n",
       "      <td>-0.028588</td>\n",
       "      <td>1.000000</td>\n",
       "      <td>-0.022894</td>\n",
       "      <td>-0.027387</td>\n",
       "      <td>-0.044052</td>\n",
       "      <td>-0.022358</td>\n",
       "      <td>-0.018530</td>\n",
       "      <td>-0.013229</td>\n",
       "    </tr>\n",
       "    <tr>\n",
       "      <th>SOCIAL</th>\n",
       "      <td>0.021213</td>\n",
       "      <td>0.069348</td>\n",
       "      <td>-0.022730</td>\n",
       "      <td>0.021439</td>\n",
       "      <td>-0.039631</td>\n",
       "      <td>-0.033201</td>\n",
       "      <td>0.155885</td>\n",
       "      <td>-0.012914</td>\n",
       "      <td>-0.015174</td>\n",
       "      <td>-0.012032</td>\n",
       "      <td>...</td>\n",
       "      <td>-0.031765</td>\n",
       "      <td>-0.025817</td>\n",
       "      <td>-0.030969</td>\n",
       "      <td>-0.022894</td>\n",
       "      <td>1.000000</td>\n",
       "      <td>-0.029668</td>\n",
       "      <td>-0.047721</td>\n",
       "      <td>-0.024220</td>\n",
       "      <td>-0.020074</td>\n",
       "      <td>-0.014331</td>\n",
       "    </tr>\n",
       "    <tr>\n",
       "      <th>SPORTS</th>\n",
       "      <td>0.019279</td>\n",
       "      <td>-0.003770</td>\n",
       "      <td>-0.012948</td>\n",
       "      <td>0.012100</td>\n",
       "      <td>-0.003757</td>\n",
       "      <td>-0.009596</td>\n",
       "      <td>-0.045621</td>\n",
       "      <td>-0.015449</td>\n",
       "      <td>-0.018152</td>\n",
       "      <td>-0.014394</td>\n",
       "      <td>...</td>\n",
       "      <td>-0.037999</td>\n",
       "      <td>-0.030884</td>\n",
       "      <td>-0.037047</td>\n",
       "      <td>-0.027387</td>\n",
       "      <td>-0.029668</td>\n",
       "      <td>1.000000</td>\n",
       "      <td>-0.057087</td>\n",
       "      <td>-0.028973</td>\n",
       "      <td>-0.024014</td>\n",
       "      <td>-0.017144</td>\n",
       "    </tr>\n",
       "    <tr>\n",
       "      <th>TOOLS</th>\n",
       "      <td>-0.078512</td>\n",
       "      <td>-0.009640</td>\n",
       "      <td>0.035430</td>\n",
       "      <td>-0.003204</td>\n",
       "      <td>0.025336</td>\n",
       "      <td>0.009649</td>\n",
       "      <td>-0.117173</td>\n",
       "      <td>-0.024849</td>\n",
       "      <td>-0.029197</td>\n",
       "      <td>-0.023152</td>\n",
       "      <td>...</td>\n",
       "      <td>-0.061120</td>\n",
       "      <td>-0.049676</td>\n",
       "      <td>-0.059589</td>\n",
       "      <td>-0.044052</td>\n",
       "      <td>-0.047721</td>\n",
       "      <td>-0.057087</td>\n",
       "      <td>1.000000</td>\n",
       "      <td>-0.046602</td>\n",
       "      <td>-0.038625</td>\n",
       "      <td>-0.027575</td>\n",
       "    </tr>\n",
       "    <tr>\n",
       "      <th>TRAVEL_AND_LOCAL</th>\n",
       "      <td>-0.028059</td>\n",
       "      <td>0.000004</td>\n",
       "      <td>-0.013794</td>\n",
       "      <td>0.014090</td>\n",
       "      <td>-0.013632</td>\n",
       "      <td>-0.006664</td>\n",
       "      <td>-0.052943</td>\n",
       "      <td>-0.012612</td>\n",
       "      <td>-0.014818</td>\n",
       "      <td>-0.011750</td>\n",
       "      <td>...</td>\n",
       "      <td>-0.031020</td>\n",
       "      <td>-0.025212</td>\n",
       "      <td>-0.030243</td>\n",
       "      <td>-0.022358</td>\n",
       "      <td>-0.024220</td>\n",
       "      <td>-0.028973</td>\n",
       "      <td>-0.046602</td>\n",
       "      <td>1.000000</td>\n",
       "      <td>-0.019603</td>\n",
       "      <td>-0.013995</td>\n",
       "    </tr>\n",
       "    <tr>\n",
       "      <th>VIDEO_PLAYERS</th>\n",
       "      <td>-0.037498</td>\n",
       "      <td>0.013094</td>\n",
       "      <td>-0.016660</td>\n",
       "      <td>0.024662</td>\n",
       "      <td>-0.023228</td>\n",
       "      <td>-0.020465</td>\n",
       "      <td>-0.017495</td>\n",
       "      <td>-0.010453</td>\n",
       "      <td>-0.012282</td>\n",
       "      <td>-0.009739</td>\n",
       "      <td>...</td>\n",
       "      <td>-0.025710</td>\n",
       "      <td>-0.020896</td>\n",
       "      <td>-0.025066</td>\n",
       "      <td>-0.018530</td>\n",
       "      <td>-0.020074</td>\n",
       "      <td>-0.024014</td>\n",
       "      <td>-0.038625</td>\n",
       "      <td>-0.019603</td>\n",
       "      <td>1.000000</td>\n",
       "      <td>-0.011599</td>\n",
       "    </tr>\n",
       "    <tr>\n",
       "      <th>WEATHER</th>\n",
       "      <td>0.009602</td>\n",
       "      <td>-0.001657</td>\n",
       "      <td>-0.011380</td>\n",
       "      <td>0.013428</td>\n",
       "      <td>0.010711</td>\n",
       "      <td>0.011706</td>\n",
       "      <td>-0.025302</td>\n",
       "      <td>-0.007462</td>\n",
       "      <td>-0.008768</td>\n",
       "      <td>-0.006953</td>\n",
       "      <td>...</td>\n",
       "      <td>-0.018355</td>\n",
       "      <td>-0.014918</td>\n",
       "      <td>-0.017895</td>\n",
       "      <td>-0.013229</td>\n",
       "      <td>-0.014331</td>\n",
       "      <td>-0.017144</td>\n",
       "      <td>-0.027575</td>\n",
       "      <td>-0.013995</td>\n",
       "      <td>-0.011599</td>\n",
       "      <td>1.000000</td>\n",
       "    </tr>\n",
       "  </tbody>\n",
       "</table>\n",
       "<p>40 rows × 40 columns</p>\n",
       "</div>"
      ],
      "text/plain": [
       "                       Rating   Reviews      Size  Installs      Type  \\\n",
       "Rating               1.000000  0.018454 -0.019876  0.080907  0.051532   \n",
       "Reviews              0.018454  1.000000 -0.004441  0.055288 -0.015774   \n",
       "Size                -0.019876 -0.004441  1.000000 -0.003166  0.053460   \n",
       "Installs             0.080907  0.055288 -0.003166  1.000000 -0.122111   \n",
       "Type                 0.051532 -0.015774  0.053460 -0.122111  1.000000   \n",
       "Price                0.030684 -0.011591  0.019916 -0.092764  0.762553   \n",
       "Content Rating      -0.004202  0.023473 -0.009977  0.071136 -0.027876   \n",
       "ART_AND_DESIGN       0.030343 -0.003967 -0.018902 -0.010724 -0.008185   \n",
       "AUTO_AND_VEHICLES    0.003692 -0.005037 -0.010430 -0.028204 -0.014526   \n",
       "BEAUTY               0.014778 -0.004317 -0.016425 -0.025158 -0.021843   \n",
       "BOOKS_AND_REFERENCE  0.044991 -0.004759 -0.008010 -0.012691  0.032123   \n",
       "BUSINESS            -0.003351 -0.011511 -0.031859 -0.059929 -0.043575   \n",
       "COMICS               0.000045 -0.002648  0.002517 -0.019780 -0.022457   \n",
       "COMMUNICATION       -0.017377  0.060215  0.029673  0.030113  0.008648   \n",
       "DATING              -0.039396 -0.006548 -0.026292 -0.030142 -0.021153   \n",
       "EDUCATION            0.039815 -0.002480 -0.004992  0.013362 -0.018035   \n",
       "ENTERTAINMENT       -0.012733  0.005535 -0.015384  0.068989 -0.020543   \n",
       "EVENTS               0.034919 -0.004982 -0.011818 -0.031991 -0.023828   \n",
       "FAMILY               0.005722 -0.015757  0.018292 -0.049539  0.036786   \n",
       "FINANCE             -0.018274 -0.007415 -0.022250 -0.040244 -0.042248   \n",
       "FOOD_AND_DRINK       0.001641 -0.002673 -0.016357  0.009066 -0.024328   \n",
       "GAME                 0.027951  0.015719  0.041860  0.142075  0.024648   \n",
       "HEALTH_AND_FITNESS   0.022092 -0.004902 -0.015320  0.008548 -0.015107   \n",
       "HOUSE_AND_HOME      -0.001988 -0.003991 -0.006779 -0.010651 -0.025841   \n",
       "LIBRARIES_AND_DEMO   0.004367 -0.005208  0.186927 -0.026082 -0.023014   \n",
       "LIFESTYLE           -0.019255 -0.009049 -0.018673 -0.034150 -0.034150   \n",
       "MAPS_AND_NAVIGATION -0.031039 -0.005110 -0.002915  0.000064 -0.016261   \n",
       "MEDICAL              0.009924 -0.012343  0.001965 -0.088430  0.086194   \n",
       "NEWS_AND_MAGAZINES  -0.010448 -0.006201 -0.035752 -0.016641 -0.042886   \n",
       "PARENTING            0.018466 -0.004137 -0.009077 -0.028157 -0.012993   \n",
       "PERSONALIZATION      0.052518 -0.008080  0.012354 -0.011194  0.109081   \n",
       "PHOTOGRAPHY         -0.016879  0.003231 -0.031163  0.079078 -0.002747   \n",
       "PRODUCTIVITY         0.003388 -0.005659 -0.000637  0.001901  0.002867   \n",
       "SHOPPING             0.010754 -0.002974 -0.006772  0.061227 -0.035741   \n",
       "SOCIAL               0.021213  0.069348 -0.022730  0.021439 -0.039631   \n",
       "SPORTS               0.019279 -0.003770 -0.012948  0.012100 -0.003757   \n",
       "TOOLS               -0.078512 -0.009640  0.035430 -0.003204  0.025336   \n",
       "TRAVEL_AND_LOCAL    -0.028059  0.000004 -0.013794  0.014090 -0.013632   \n",
       "VIDEO_PLAYERS       -0.037498  0.013094 -0.016660  0.024662 -0.023228   \n",
       "WEATHER              0.009602 -0.001657 -0.011380  0.013428  0.010711   \n",
       "\n",
       "                        Price  Content Rating  ART_AND_DESIGN  \\\n",
       "Rating               0.030684       -0.004202        0.030343   \n",
       "Reviews             -0.011591        0.023473       -0.003967   \n",
       "Size                 0.019916       -0.009977       -0.018902   \n",
       "Installs            -0.092764        0.071136       -0.010724   \n",
       "Type                 0.762553       -0.027876       -0.008185   \n",
       "Price                1.000000       -0.009999       -0.011442   \n",
       "Content Rating      -0.009999        1.000000       -0.026181   \n",
       "ART_AND_DESIGN      -0.011442       -0.026181        1.000000   \n",
       "AUTO_AND_VEHICLES   -0.008615       -0.034674       -0.007901   \n",
       "BEAUTY              -0.016657        0.000682       -0.006266   \n",
       "BOOKS_AND_REFERENCE  0.035515       -0.033293       -0.012733   \n",
       "BUSINESS            -0.026826       -0.073990       -0.017689   \n",
       "COMICS              -0.017125        0.064569       -0.006441   \n",
       "COMMUNICATION       -0.008501       -0.035387       -0.014665   \n",
       "DATING              -0.012339        0.457600       -0.011328   \n",
       "EDUCATION           -0.010978       -0.025550       -0.009383   \n",
       "ENTERTAINMENT       -0.014976        0.074252       -0.008273   \n",
       "EVENTS              -0.018170       -0.009156       -0.006835   \n",
       "FAMILY               0.032157        0.018133       -0.040237   \n",
       "FINANCE             -0.031582       -0.075378       -0.015928   \n",
       "FOOD_AND_DRINK      -0.017527       -0.029020       -0.009138   \n",
       "GAME                 0.011181        0.196936       -0.026169   \n",
       "HEALTH_AND_FITNESS  -0.006250       -0.033379       -0.014638   \n",
       "HOUSE_AND_HOME      -0.019705       -0.033138       -0.007412   \n",
       "LIBRARIES_AND_DEMO  -0.019963       -0.038819       -0.007854   \n",
       "LIFESTYLE           -0.027236       -0.038608       -0.016540   \n",
       "MAPS_AND_NAVIGATION -0.005681       -0.039209       -0.009739   \n",
       "MEDICAL              0.132716       -0.059562       -0.017040   \n",
       "NEWS_AND_MAGAZINES  -0.034433        0.059800       -0.013758   \n",
       "PARENTING           -0.007317       -0.025200       -0.006669   \n",
       "PERSONALIZATION      0.022408       -0.014338       -0.016540   \n",
       "PHOTOGRAPHY          0.001830       -0.052697       -0.013443   \n",
       "PRODUCTIVITY         0.001628       -0.068389       -0.016126   \n",
       "SHOPPING            -0.028313       -0.026984       -0.011921   \n",
       "SOCIAL              -0.033201        0.155885       -0.012914   \n",
       "SPORTS              -0.009596       -0.045621       -0.015449   \n",
       "TOOLS                0.009649       -0.117173       -0.024849   \n",
       "TRAVEL_AND_LOCAL    -0.006664       -0.052943       -0.012612   \n",
       "VIDEO_PLAYERS       -0.020465       -0.017495       -0.010453   \n",
       "WEATHER              0.011706       -0.025302       -0.007462   \n",
       "\n",
       "                     AUTO_AND_VEHICLES    BEAUTY  ...  PERSONALIZATION  \\\n",
       "Rating                        0.003692  0.014778  ...         0.052518   \n",
       "Reviews                      -0.005037 -0.004317  ...        -0.008080   \n",
       "Size                         -0.010430 -0.016425  ...         0.012354   \n",
       "Installs                     -0.028204 -0.025158  ...        -0.011194   \n",
       "Type                         -0.014526 -0.021843  ...         0.109081   \n",
       "Price                        -0.008615 -0.016657  ...         0.022408   \n",
       "Content Rating               -0.034674  0.000682  ...        -0.014338   \n",
       "ART_AND_DESIGN               -0.007901 -0.006266  ...        -0.016540   \n",
       "AUTO_AND_VEHICLES             1.000000 -0.007362  ...        -0.019435   \n",
       "BEAUTY                       -0.007362  1.000000  ...        -0.015411   \n",
       "BOOKS_AND_REFERENCE          -0.014961 -0.011864  ...        -0.031320   \n",
       "BUSINESS                     -0.020784 -0.016481  ...        -0.043508   \n",
       "COMICS                       -0.007569 -0.006002  ...        -0.015844   \n",
       "COMMUNICATION                -0.017231 -0.013664  ...        -0.036071   \n",
       "DATING                       -0.013310 -0.010555  ...        -0.027863   \n",
       "EDUCATION                    -0.011024 -0.008742  ...        -0.023078   \n",
       "ENTERTAINMENT                -0.009720 -0.007708  ...        -0.020348   \n",
       "EVENTS                       -0.008031 -0.006368  ...        -0.016811   \n",
       "FAMILY                       -0.047278 -0.037490  ...        -0.098970   \n",
       "FINANCE                      -0.018715 -0.014840  ...        -0.039178   \n",
       "FOOD_AND_DRINK               -0.010737 -0.008514  ...        -0.022476   \n",
       "GAME                         -0.030747 -0.024382  ...        -0.064366   \n",
       "HEALTH_AND_FITNESS           -0.017200 -0.013639  ...        -0.036005   \n",
       "HOUSE_AND_HOME               -0.008709 -0.006906  ...        -0.018231   \n",
       "LIBRARIES_AND_DEMO           -0.009228 -0.007317  ...        -0.019317   \n",
       "LIFESTYLE                    -0.019435 -0.015411  ...        -0.040684   \n",
       "MAPS_AND_NAVIGATION          -0.011443 -0.009074  ...        -0.023954   \n",
       "MEDICAL                      -0.020022 -0.015877  ...        -0.041913   \n",
       "NEWS_AND_MAGAZINES           -0.016165 -0.012818  ...        -0.033840   \n",
       "PARENTING                    -0.007836 -0.006214  ...        -0.016403   \n",
       "PERSONALIZATION              -0.019435 -0.015411  ...         1.000000   \n",
       "PHOTOGRAPHY                  -0.015796 -0.012525  ...        -0.033066   \n",
       "PRODUCTIVITY                 -0.018948 -0.015025  ...        -0.039665   \n",
       "SHOPPING                     -0.014007 -0.011107  ...        -0.029322   \n",
       "SOCIAL                       -0.015174 -0.012032  ...        -0.031765   \n",
       "SPORTS                       -0.018152 -0.014394  ...        -0.037999   \n",
       "TOOLS                        -0.029197 -0.023152  ...        -0.061120   \n",
       "TRAVEL_AND_LOCAL             -0.014818 -0.011750  ...        -0.031020   \n",
       "VIDEO_PLAYERS                -0.012282 -0.009739  ...        -0.025710   \n",
       "WEATHER                      -0.008768 -0.006953  ...        -0.018355   \n",
       "\n",
       "                     PHOTOGRAPHY  PRODUCTIVITY  SHOPPING    SOCIAL    SPORTS  \\\n",
       "Rating                 -0.016879      0.003388  0.010754  0.021213  0.019279   \n",
       "Reviews                 0.003231     -0.005659 -0.002974  0.069348 -0.003770   \n",
       "Size                   -0.031163     -0.000637 -0.006772 -0.022730 -0.012948   \n",
       "Installs                0.079078      0.001901  0.061227  0.021439  0.012100   \n",
       "Type                   -0.002747      0.002867 -0.035741 -0.039631 -0.003757   \n",
       "Price                   0.001830      0.001628 -0.028313 -0.033201 -0.009596   \n",
       "Content Rating         -0.052697     -0.068389 -0.026984  0.155885 -0.045621   \n",
       "ART_AND_DESIGN         -0.013443     -0.016126 -0.011921 -0.012914 -0.015449   \n",
       "AUTO_AND_VEHICLES      -0.015796     -0.018948 -0.014007 -0.015174 -0.018152   \n",
       "BEAUTY                 -0.012525     -0.015025 -0.011107 -0.012032 -0.014394   \n",
       "BOOKS_AND_REFERENCE    -0.025456     -0.030536 -0.022574 -0.024454 -0.029253   \n",
       "BUSINESS               -0.035361     -0.042418 -0.031358 -0.033969 -0.040637   \n",
       "COMICS                 -0.012877     -0.015447 -0.011419 -0.012370 -0.014798   \n",
       "COMMUNICATION          -0.029317     -0.035168 -0.025998 -0.028163 -0.033691   \n",
       "DATING                 -0.022646     -0.027165 -0.020082 -0.021755 -0.026024   \n",
       "EDUCATION              -0.018757     -0.022500 -0.016633 -0.018018 -0.021555   \n",
       "ENTERTAINMENT          -0.016538     -0.019838 -0.014666 -0.015887 -0.019005   \n",
       "EVENTS                 -0.013664     -0.016390 -0.012117 -0.013126 -0.015702   \n",
       "FAMILY                 -0.080439     -0.096491 -0.071332 -0.077273 -0.092439   \n",
       "FINANCE                -0.031842     -0.038196 -0.028237 -0.030589 -0.036592   \n",
       "FOOD_AND_DRINK         -0.018268     -0.021913 -0.016199 -0.017548 -0.020993   \n",
       "GAME                   -0.052314     -0.062754 -0.046391 -0.050255 -0.060119   \n",
       "HEALTH_AND_FITNESS     -0.029264     -0.035103 -0.025950 -0.028112 -0.033629   \n",
       "HOUSE_AND_HOME         -0.014817     -0.017774 -0.013140 -0.014234 -0.017028   \n",
       "LIBRARIES_AND_DEMO     -0.015701     -0.018834 -0.013923 -0.015082 -0.018043   \n",
       "LIFESTYLE              -0.033066     -0.039665 -0.029322 -0.031765 -0.037999   \n",
       "MAPS_AND_NAVIGATION    -0.019469     -0.023354 -0.017264 -0.018702 -0.022373   \n",
       "MEDICAL                -0.034066     -0.040864 -0.030209 -0.032725 -0.039148   \n",
       "NEWS_AND_MAGAZINES     -0.027504     -0.032992 -0.024390 -0.026421 -0.031607   \n",
       "PARENTING              -0.013332     -0.015993 -0.011823 -0.012807 -0.015321   \n",
       "PERSONALIZATION        -0.033066     -0.039665 -0.029322 -0.031765 -0.037999   \n",
       "PHOTOGRAPHY             1.000000     -0.032238 -0.023832 -0.025817 -0.030884   \n",
       "PRODUCTIVITY           -0.032238      1.000000 -0.028588 -0.030969 -0.037047   \n",
       "SHOPPING               -0.023832     -0.028588  1.000000 -0.022894 -0.027387   \n",
       "SOCIAL                 -0.025817     -0.030969 -0.022894  1.000000 -0.029668   \n",
       "SPORTS                 -0.030884     -0.037047 -0.027387 -0.029668  1.000000   \n",
       "TOOLS                  -0.049676     -0.059589 -0.044052 -0.047721 -0.057087   \n",
       "TRAVEL_AND_LOCAL       -0.025212     -0.030243 -0.022358 -0.024220 -0.028973   \n",
       "VIDEO_PLAYERS          -0.020896     -0.025066 -0.018530 -0.020074 -0.024014   \n",
       "WEATHER                -0.014918     -0.017895 -0.013229 -0.014331 -0.017144   \n",
       "\n",
       "                        TOOLS  TRAVEL_AND_LOCAL  VIDEO_PLAYERS   WEATHER  \n",
       "Rating              -0.078512         -0.028059      -0.037498  0.009602  \n",
       "Reviews             -0.009640          0.000004       0.013094 -0.001657  \n",
       "Size                 0.035430         -0.013794      -0.016660 -0.011380  \n",
       "Installs            -0.003204          0.014090       0.024662  0.013428  \n",
       "Type                 0.025336         -0.013632      -0.023228  0.010711  \n",
       "Price                0.009649         -0.006664      -0.020465  0.011706  \n",
       "Content Rating      -0.117173         -0.052943      -0.017495 -0.025302  \n",
       "ART_AND_DESIGN      -0.024849         -0.012612      -0.010453 -0.007462  \n",
       "AUTO_AND_VEHICLES   -0.029197         -0.014818      -0.012282 -0.008768  \n",
       "BEAUTY              -0.023152         -0.011750      -0.009739 -0.006953  \n",
       "BOOKS_AND_REFERENCE -0.047053         -0.023881      -0.019793 -0.014130  \n",
       "BUSINESS            -0.065363         -0.033173      -0.027495 -0.019629  \n",
       "COMICS              -0.023802         -0.012080      -0.010012 -0.007148  \n",
       "COMMUNICATION       -0.054190         -0.027503      -0.022795 -0.016274  \n",
       "DATING              -0.041859         -0.021245      -0.017608 -0.012571  \n",
       "EDUCATION           -0.034670         -0.017596      -0.014584 -0.010412  \n",
       "ENTERTAINMENT       -0.030569         -0.015515      -0.012859 -0.009180  \n",
       "EVENTS              -0.025256         -0.012818      -0.010624 -0.007585  \n",
       "FAMILY              -0.148685         -0.075462      -0.062544 -0.044651  \n",
       "FINANCE             -0.058857         -0.029872      -0.024758 -0.017675  \n",
       "FOOD_AND_DRINK      -0.033766         -0.017137      -0.014204 -0.010140  \n",
       "GAME                -0.096699         -0.049077      -0.040676 -0.029039  \n",
       "HEALTH_AND_FITNESS  -0.054091         -0.027453      -0.022753 -0.016244  \n",
       "HOUSE_AND_HOME      -0.027389         -0.013901      -0.011521 -0.008225  \n",
       "LIBRARIES_AND_DEMO  -0.029021         -0.014729      -0.012208 -0.008715  \n",
       "LIFESTYLE           -0.061120         -0.031020      -0.025710 -0.018355  \n",
       "MAPS_AND_NAVIGATION -0.035986         -0.018264      -0.015137 -0.010807  \n",
       "MEDICAL             -0.062967         -0.031958      -0.026487 -0.018910  \n",
       "NEWS_AND_MAGAZINES  -0.050838         -0.025802      -0.021385 -0.015267  \n",
       "PARENTING           -0.024643         -0.012507      -0.010366 -0.007401  \n",
       "PERSONALIZATION     -0.061120         -0.031020      -0.025710 -0.018355  \n",
       "PHOTOGRAPHY         -0.049676         -0.025212      -0.020896 -0.014918  \n",
       "PRODUCTIVITY        -0.059589         -0.030243      -0.025066 -0.017895  \n",
       "SHOPPING            -0.044052         -0.022358      -0.018530 -0.013229  \n",
       "SOCIAL              -0.047721         -0.024220      -0.020074 -0.014331  \n",
       "SPORTS              -0.057087         -0.028973      -0.024014 -0.017144  \n",
       "TOOLS                1.000000         -0.046602      -0.038625 -0.027575  \n",
       "TRAVEL_AND_LOCAL    -0.046602          1.000000      -0.019603 -0.013995  \n",
       "VIDEO_PLAYERS       -0.038625         -0.019603       1.000000 -0.011599  \n",
       "WEATHER             -0.027575         -0.013995      -0.011599  1.000000  \n",
       "\n",
       "[40 rows x 40 columns]"
      ]
     },
     "execution_count": 268,
     "metadata": {},
     "output_type": "execute_result"
    }
   ],
   "source": [
    "data_na.corr(numeric_only = True)"
   ]
  },
  {
   "cell_type": "code",
   "execution_count": 158,
   "metadata": {},
   "outputs": [
    {
     "name": "stderr",
     "output_type": "stream",
     "text": [
      "C:\\Users\\Olyni\\AppData\\Local\\Temp\\ipykernel_11560\\3042198352.py:1: FutureWarning: The default value of numeric_only in DataFrame.corr is deprecated. In a future version, it will default to False. Select only valid columns or specify the value of numeric_only to silence this warning.\n",
      "  sns.heatmap(data_na.corr(), square=True, cmap='coolwarm', vmin=-1, vmax=1)\n"
     ]
    },
    {
     "data": {
      "text/plain": [
       "<AxesSubplot:>"
      ]
     },
     "execution_count": 158,
     "metadata": {},
     "output_type": "execute_result"
    },
    {
     "data": {
      "image/png": "[encoded data removed]",
      "text/plain": [
       "<Figure size 432x288 with 2 Axes>"
      ]
     },
     "metadata": {
      "needs_background": "light"
     },
     "output_type": "display_data"
    }
   ],
   "source": [
    "sns.heatmap(data_na.corr(numeric_only = True), square=True, cmap='coolwarm', vmin=-1, vmax=1)"
   ]
  },
  {
   "cell_type": "markdown",
   "metadata": {},
   "source": [
    "### Как было отмеченно раннее, признаки слабо коррелируют друг с другом, что видно из построенных таблиц."
   ]
  },
  {
   "cell_type": "markdown",
   "metadata": {},
   "source": [
    "## Рассмотрим соотношение бесплатных и платных приложений"
   ]
  },
  {
   "cell_type": "code",
   "execution_count": 159,
   "metadata": {},
   "outputs": [
    {
     "data": {
      "image/png": "[encoded data removed]",
      "text/plain": [
       "<Figure size 432x288 with 1 Axes>"
      ]
     },
     "metadata": {
      "needs_background": "light"
     },
     "output_type": "display_data"
    }
   ],
   "source": [
    "sns.countplot(x='Type', data=data_na)\n",
    "pass"
   ]
  },
  {
   "cell_type": "markdown",
   "metadata": {},
   "source": [
    "Наблюдаем преобладание класса бесплатных приложений над платными."
   ]
  },
  {
   "cell_type": "markdown",
   "metadata": {},
   "source": [
    "# Обработка категориальных признаков"
   ]
  },
  {
   "cell_type": "code",
   "execution_count": 160,
   "metadata": {},
   "outputs": [
    {
     "data": {
      "text/plain": [
       "['Art & Design', 'Art & Design;Pretend Play', 'Art & Design;Creativity', 'Art & Design;Action & Adventure', 'Auto & Vehicles', ..., 'Role Playing;Brain Games', 'Strategy;Education', 'Racing;Pretend Play', 'Communication;Creativity', 'Strategy;Creativity']\n",
       "Length: 118\n",
       "Categories (120, object): [1, 'Action', 'Action;Action & Adventure', 'Adventure', ..., 'Video Players & Editors;Creativity', 'Video Players & Editors;Music & Video', 'Weather', 'Word']"
      ]
     },
     "execution_count": 160,
     "metadata": {},
     "output_type": "execute_result"
    }
   ],
   "source": [
    "data_na['Genres'].unique()"
   ]
  },
  {
   "cell_type": "markdown",
   "metadata": {},
   "source": [
    "### Слишком большое количество категорий, лучше будет отказаться от данного признака."
   ]
  },
  {
   "cell_type": "code",
   "execution_count": 161,
   "metadata": {},
   "outputs": [],
   "source": [
    "del data_na['Genres']"
   ]
  },
  {
   "cell_type": "code",
   "execution_count": 162,
   "metadata": {},
   "outputs": [
    {
     "data": {
      "text/plain": [
       "['ART_AND_DESIGN', 'AUTO_AND_VEHICLES', 'BEAUTY', 'BOOKS_AND_REFERENCE', 'BUSINESS', ..., 'PARENTING', 'WEATHER', 'VIDEO_PLAYERS', 'NEWS_AND_MAGAZINES', 'MAPS_AND_NAVIGATION']\n",
       "Length: 33\n",
       "Categories (33, object): ['ART_AND_DESIGN', 'AUTO_AND_VEHICLES', 'BEAUTY', 'BOOKS_AND_REFERENCE', ..., 'TOOLS', 'TRAVEL_AND_LOCAL', 'VIDEO_PLAYERS', 'WEATHER']"
      ]
     },
     "execution_count": 162,
     "metadata": {},
     "output_type": "execute_result"
    }
   ],
   "source": [
    "data_na['Category'].unique()"
   ]
  },
  {
   "cell_type": "markdown",
   "metadata": {},
   "source": [
    "### К категориальному (небинарному) признаку `'Category'` применим метод *бинаризации* (*one-hot encoding*).\n"
   ]
  },
  {
   "cell_type": "code",
   "execution_count": 163,
   "metadata": {},
   "outputs": [],
   "source": [
    "dummies = pd.get_dummies(data_na['Category'])"
   ]
  },
  {
   "cell_type": "code",
   "execution_count": 164,
   "metadata": {},
   "outputs": [
    {
     "data": {
      "text/html": [
       "<div>\n",
       "<style scoped>\n",
       "    .dataframe tbody tr th:only-of-type {\n",
       "        vertical-align: middle;\n",
       "    }\n",
       "\n",
       "    .dataframe tbody tr th {\n",
       "        vertical-align: top;\n",
       "    }\n",
       "\n",
       "    .dataframe thead th {\n",
       "        text-align: right;\n",
       "    }\n",
       "</style>\n",
       "<table border=\"1\" class=\"dataframe\">\n",
       "  <thead>\n",
       "    <tr style=\"text-align: right;\">\n",
       "      <th></th>\n",
       "      <th>ART_AND_DESIGN</th>\n",
       "      <th>AUTO_AND_VEHICLES</th>\n",
       "      <th>BEAUTY</th>\n",
       "      <th>BOOKS_AND_REFERENCE</th>\n",
       "      <th>BUSINESS</th>\n",
       "      <th>COMICS</th>\n",
       "      <th>COMMUNICATION</th>\n",
       "      <th>DATING</th>\n",
       "      <th>EDUCATION</th>\n",
       "      <th>ENTERTAINMENT</th>\n",
       "      <th>...</th>\n",
       "      <th>PERSONALIZATION</th>\n",
       "      <th>PHOTOGRAPHY</th>\n",
       "      <th>PRODUCTIVITY</th>\n",
       "      <th>SHOPPING</th>\n",
       "      <th>SOCIAL</th>\n",
       "      <th>SPORTS</th>\n",
       "      <th>TOOLS</th>\n",
       "      <th>TRAVEL_AND_LOCAL</th>\n",
       "      <th>VIDEO_PLAYERS</th>\n",
       "      <th>WEATHER</th>\n",
       "    </tr>\n",
       "  </thead>\n",
       "  <tbody>\n",
       "    <tr>\n",
       "      <th>0</th>\n",
       "      <td>1</td>\n",
       "      <td>0</td>\n",
       "      <td>0</td>\n",
       "      <td>0</td>\n",
       "      <td>0</td>\n",
       "      <td>0</td>\n",
       "      <td>0</td>\n",
       "      <td>0</td>\n",
       "      <td>0</td>\n",
       "      <td>0</td>\n",
       "      <td>...</td>\n",
       "      <td>0</td>\n",
       "      <td>0</td>\n",
       "      <td>0</td>\n",
       "      <td>0</td>\n",
       "      <td>0</td>\n",
       "      <td>0</td>\n",
       "      <td>0</td>\n",
       "      <td>0</td>\n",
       "      <td>0</td>\n",
       "      <td>0</td>\n",
       "    </tr>\n",
       "    <tr>\n",
       "      <th>1</th>\n",
       "      <td>1</td>\n",
       "      <td>0</td>\n",
       "      <td>0</td>\n",
       "      <td>0</td>\n",
       "      <td>0</td>\n",
       "      <td>0</td>\n",
       "      <td>0</td>\n",
       "      <td>0</td>\n",
       "      <td>0</td>\n",
       "      <td>0</td>\n",
       "      <td>...</td>\n",
       "      <td>0</td>\n",
       "      <td>0</td>\n",
       "      <td>0</td>\n",
       "      <td>0</td>\n",
       "      <td>0</td>\n",
       "      <td>0</td>\n",
       "      <td>0</td>\n",
       "      <td>0</td>\n",
       "      <td>0</td>\n",
       "      <td>0</td>\n",
       "    </tr>\n",
       "    <tr>\n",
       "      <th>2</th>\n",
       "      <td>1</td>\n",
       "      <td>0</td>\n",
       "      <td>0</td>\n",
       "      <td>0</td>\n",
       "      <td>0</td>\n",
       "      <td>0</td>\n",
       "      <td>0</td>\n",
       "      <td>0</td>\n",
       "      <td>0</td>\n",
       "      <td>0</td>\n",
       "      <td>...</td>\n",
       "      <td>0</td>\n",
       "      <td>0</td>\n",
       "      <td>0</td>\n",
       "      <td>0</td>\n",
       "      <td>0</td>\n",
       "      <td>0</td>\n",
       "      <td>0</td>\n",
       "      <td>0</td>\n",
       "      <td>0</td>\n",
       "      <td>0</td>\n",
       "    </tr>\n",
       "    <tr>\n",
       "      <th>4</th>\n",
       "      <td>1</td>\n",
       "      <td>0</td>\n",
       "      <td>0</td>\n",
       "      <td>0</td>\n",
       "      <td>0</td>\n",
       "      <td>0</td>\n",
       "      <td>0</td>\n",
       "      <td>0</td>\n",
       "      <td>0</td>\n",
       "      <td>0</td>\n",
       "      <td>...</td>\n",
       "      <td>0</td>\n",
       "      <td>0</td>\n",
       "      <td>0</td>\n",
       "      <td>0</td>\n",
       "      <td>0</td>\n",
       "      <td>0</td>\n",
       "      <td>0</td>\n",
       "      <td>0</td>\n",
       "      <td>0</td>\n",
       "      <td>0</td>\n",
       "    </tr>\n",
       "    <tr>\n",
       "      <th>5</th>\n",
       "      <td>1</td>\n",
       "      <td>0</td>\n",
       "      <td>0</td>\n",
       "      <td>0</td>\n",
       "      <td>0</td>\n",
       "      <td>0</td>\n",
       "      <td>0</td>\n",
       "      <td>0</td>\n",
       "      <td>0</td>\n",
       "      <td>0</td>\n",
       "      <td>...</td>\n",
       "      <td>0</td>\n",
       "      <td>0</td>\n",
       "      <td>0</td>\n",
       "      <td>0</td>\n",
       "      <td>0</td>\n",
       "      <td>0</td>\n",
       "      <td>0</td>\n",
       "      <td>0</td>\n",
       "      <td>0</td>\n",
       "      <td>0</td>\n",
       "    </tr>\n",
       "  </tbody>\n",
       "</table>\n",
       "<p>5 rows × 33 columns</p>\n",
       "</div>"
      ],
      "text/plain": [
       "   ART_AND_DESIGN  AUTO_AND_VEHICLES  BEAUTY  BOOKS_AND_REFERENCE  BUSINESS  \\\n",
       "0               1                  0       0                    0         0   \n",
       "1               1                  0       0                    0         0   \n",
       "2               1                  0       0                    0         0   \n",
       "4               1                  0       0                    0         0   \n",
       "5               1                  0       0                    0         0   \n",
       "\n",
       "   COMICS  COMMUNICATION  DATING  EDUCATION  ENTERTAINMENT  ...  \\\n",
       "0       0              0       0          0              0  ...   \n",
       "1       0              0       0          0              0  ...   \n",
       "2       0              0       0          0              0  ...   \n",
       "4       0              0       0          0              0  ...   \n",
       "5       0              0       0          0              0  ...   \n",
       "\n",
       "   PERSONALIZATION  PHOTOGRAPHY  PRODUCTIVITY  SHOPPING  SOCIAL  SPORTS  \\\n",
       "0                0            0             0         0       0       0   \n",
       "1                0            0             0         0       0       0   \n",
       "2                0            0             0         0       0       0   \n",
       "4                0            0             0         0       0       0   \n",
       "5                0            0             0         0       0       0   \n",
       "\n",
       "   TOOLS  TRAVEL_AND_LOCAL  VIDEO_PLAYERS  WEATHER  \n",
       "0      0                 0              0        0  \n",
       "1      0                 0              0        0  \n",
       "2      0                 0              0        0  \n",
       "4      0                 0              0        0  \n",
       "5      0                 0              0        0  \n",
       "\n",
       "[5 rows x 33 columns]"
      ]
     },
     "execution_count": 164,
     "metadata": {},
     "output_type": "execute_result"
    }
   ],
   "source": [
    "dummies.head()"
   ]
  },
  {
   "cell_type": "code",
   "execution_count": 165,
   "metadata": {},
   "outputs": [],
   "source": [
    "data_na = pd.concat((data_na, dummies), axis=1)\n",
    "data_na = data_na.drop(['Category'], axis=1)"
   ]
  },
  {
   "cell_type": "code",
   "execution_count": 166,
   "metadata": {},
   "outputs": [
    {
     "data": {
      "text/plain": [
       "['Free', 'Paid']\n",
       "Categories (2, object): ['Free', 'Paid']"
      ]
     },
     "execution_count": 166,
     "metadata": {},
     "output_type": "execute_result"
    }
   ],
   "source": [
    "data_na['Type'].unique()"
   ]
  },
  {
   "cell_type": "markdown",
   "metadata": {},
   "source": [
    "## Бинарный признак заменим на числовой"
   ]
  },
  {
   "cell_type": "code",
   "execution_count": 167,
   "metadata": {},
   "outputs": [],
   "source": [
    "data_na['Type'] = pd.factorize(data_na['Type'])[0]"
   ]
  },
  {
   "cell_type": "code",
   "execution_count": 168,
   "metadata": {},
   "outputs": [
    {
     "data": {
      "text/html": [
       "<div>\n",
       "<style scoped>\n",
       "    .dataframe tbody tr th:only-of-type {\n",
       "        vertical-align: middle;\n",
       "    }\n",
       "\n",
       "    .dataframe tbody tr th {\n",
       "        vertical-align: top;\n",
       "    }\n",
       "\n",
       "    .dataframe thead th {\n",
       "        text-align: right;\n",
       "    }\n",
       "</style>\n",
       "<table border=\"1\" class=\"dataframe\">\n",
       "  <thead>\n",
       "    <tr style=\"text-align: right;\">\n",
       "      <th></th>\n",
       "      <th>Rating</th>\n",
       "      <th>Reviews</th>\n",
       "      <th>Size</th>\n",
       "      <th>Installs</th>\n",
       "      <th>Type</th>\n",
       "      <th>Price</th>\n",
       "      <th>Content Rating</th>\n",
       "      <th>ART_AND_DESIGN</th>\n",
       "      <th>AUTO_AND_VEHICLES</th>\n",
       "      <th>BEAUTY</th>\n",
       "      <th>...</th>\n",
       "      <th>PERSONALIZATION</th>\n",
       "      <th>PHOTOGRAPHY</th>\n",
       "      <th>PRODUCTIVITY</th>\n",
       "      <th>SHOPPING</th>\n",
       "      <th>SOCIAL</th>\n",
       "      <th>SPORTS</th>\n",
       "      <th>TOOLS</th>\n",
       "      <th>TRAVEL_AND_LOCAL</th>\n",
       "      <th>VIDEO_PLAYERS</th>\n",
       "      <th>WEATHER</th>\n",
       "    </tr>\n",
       "  </thead>\n",
       "  <tbody>\n",
       "    <tr>\n",
       "      <th>0</th>\n",
       "      <td>4.1</td>\n",
       "      <td>159.0</td>\n",
       "      <td>19.0</td>\n",
       "      <td>10000.0</td>\n",
       "      <td>0</td>\n",
       "      <td>0.0</td>\n",
       "      <td>0.0</td>\n",
       "      <td>1</td>\n",
       "      <td>0</td>\n",
       "      <td>0</td>\n",
       "      <td>...</td>\n",
       "      <td>0</td>\n",
       "      <td>0</td>\n",
       "      <td>0</td>\n",
       "      <td>0</td>\n",
       "      <td>0</td>\n",
       "      <td>0</td>\n",
       "      <td>0</td>\n",
       "      <td>0</td>\n",
       "      <td>0</td>\n",
       "      <td>0</td>\n",
       "    </tr>\n",
       "    <tr>\n",
       "      <th>1</th>\n",
       "      <td>3.9</td>\n",
       "      <td>967.0</td>\n",
       "      <td>14.0</td>\n",
       "      <td>500000.0</td>\n",
       "      <td>0</td>\n",
       "      <td>0.0</td>\n",
       "      <td>0.0</td>\n",
       "      <td>1</td>\n",
       "      <td>0</td>\n",
       "      <td>0</td>\n",
       "      <td>...</td>\n",
       "      <td>0</td>\n",
       "      <td>0</td>\n",
       "      <td>0</td>\n",
       "      <td>0</td>\n",
       "      <td>0</td>\n",
       "      <td>0</td>\n",
       "      <td>0</td>\n",
       "      <td>0</td>\n",
       "      <td>0</td>\n",
       "      <td>0</td>\n",
       "    </tr>\n",
       "    <tr>\n",
       "      <th>2</th>\n",
       "      <td>4.7</td>\n",
       "      <td>87510.0</td>\n",
       "      <td>8.7</td>\n",
       "      <td>5000000.0</td>\n",
       "      <td>0</td>\n",
       "      <td>0.0</td>\n",
       "      <td>0.0</td>\n",
       "      <td>1</td>\n",
       "      <td>0</td>\n",
       "      <td>0</td>\n",
       "      <td>...</td>\n",
       "      <td>0</td>\n",
       "      <td>0</td>\n",
       "      <td>0</td>\n",
       "      <td>0</td>\n",
       "      <td>0</td>\n",
       "      <td>0</td>\n",
       "      <td>0</td>\n",
       "      <td>0</td>\n",
       "      <td>0</td>\n",
       "      <td>0</td>\n",
       "    </tr>\n",
       "    <tr>\n",
       "      <th>4</th>\n",
       "      <td>4.3</td>\n",
       "      <td>967.0</td>\n",
       "      <td>2.8</td>\n",
       "      <td>100000.0</td>\n",
       "      <td>0</td>\n",
       "      <td>0.0</td>\n",
       "      <td>0.0</td>\n",
       "      <td>1</td>\n",
       "      <td>0</td>\n",
       "      <td>0</td>\n",
       "      <td>...</td>\n",
       "      <td>0</td>\n",
       "      <td>0</td>\n",
       "      <td>0</td>\n",
       "      <td>0</td>\n",
       "      <td>0</td>\n",
       "      <td>0</td>\n",
       "      <td>0</td>\n",
       "      <td>0</td>\n",
       "      <td>0</td>\n",
       "      <td>0</td>\n",
       "    </tr>\n",
       "    <tr>\n",
       "      <th>5</th>\n",
       "      <td>4.4</td>\n",
       "      <td>167.0</td>\n",
       "      <td>5.6</td>\n",
       "      <td>50000.0</td>\n",
       "      <td>0</td>\n",
       "      <td>0.0</td>\n",
       "      <td>0.0</td>\n",
       "      <td>1</td>\n",
       "      <td>0</td>\n",
       "      <td>0</td>\n",
       "      <td>...</td>\n",
       "      <td>0</td>\n",
       "      <td>0</td>\n",
       "      <td>0</td>\n",
       "      <td>0</td>\n",
       "      <td>0</td>\n",
       "      <td>0</td>\n",
       "      <td>0</td>\n",
       "      <td>0</td>\n",
       "      <td>0</td>\n",
       "      <td>0</td>\n",
       "    </tr>\n",
       "  </tbody>\n",
       "</table>\n",
       "<p>5 rows × 40 columns</p>\n",
       "</div>"
      ],
      "text/plain": [
       "   Rating  Reviews  Size   Installs  Type  Price  Content Rating  \\\n",
       "0     4.1    159.0  19.0    10000.0     0    0.0             0.0   \n",
       "1     3.9    967.0  14.0   500000.0     0    0.0             0.0   \n",
       "2     4.7  87510.0   8.7  5000000.0     0    0.0             0.0   \n",
       "4     4.3    967.0   2.8   100000.0     0    0.0             0.0   \n",
       "5     4.4    167.0   5.6    50000.0     0    0.0             0.0   \n",
       "\n",
       "   ART_AND_DESIGN  AUTO_AND_VEHICLES  BEAUTY  ...  PERSONALIZATION  \\\n",
       "0               1                  0       0  ...                0   \n",
       "1               1                  0       0  ...                0   \n",
       "2               1                  0       0  ...                0   \n",
       "4               1                  0       0  ...                0   \n",
       "5               1                  0       0  ...                0   \n",
       "\n",
       "   PHOTOGRAPHY  PRODUCTIVITY  SHOPPING  SOCIAL  SPORTS  TOOLS  \\\n",
       "0            0             0         0       0       0      0   \n",
       "1            0             0         0       0       0      0   \n",
       "2            0             0         0       0       0      0   \n",
       "4            0             0         0       0       0      0   \n",
       "5            0             0         0       0       0      0   \n",
       "\n",
       "   TRAVEL_AND_LOCAL  VIDEO_PLAYERS  WEATHER  \n",
       "0                 0              0        0  \n",
       "1                 0              0        0  \n",
       "2                 0              0        0  \n",
       "4                 0              0        0  \n",
       "5                 0              0        0  \n",
       "\n",
       "[5 rows x 40 columns]"
      ]
     },
     "execution_count": 168,
     "metadata": {},
     "output_type": "execute_result"
    }
   ],
   "source": [
    "data_na.head()"
   ]
  },
  {
   "cell_type": "markdown",
   "metadata": {},
   "source": [
    "# Нормализация"
   ]
  },
  {
   "cell_type": "markdown",
   "metadata": {},
   "source": [
    "### Нормализация числовых признаков выполняется путем линейного преобразования диапазона каждого из значений к отрезку $[0; 1]$."
   ]
  },
  {
   "cell_type": "code",
   "execution_count": 169,
   "metadata": {},
   "outputs": [],
   "source": [
    "data_na = (data_na - data_na.min(axis=0)) / (data_na.max(axis=0) - data_na.min(axis=0))"
   ]
  },
  {
   "cell_type": "code",
   "execution_count": 170,
   "metadata": {},
   "outputs": [
    {
     "data": {
      "text/html": [
       "<div>\n",
       "<style scoped>\n",
       "    .dataframe tbody tr th:only-of-type {\n",
       "        vertical-align: middle;\n",
       "    }\n",
       "\n",
       "    .dataframe tbody tr th {\n",
       "        vertical-align: top;\n",
       "    }\n",
       "\n",
       "    .dataframe thead th {\n",
       "        text-align: right;\n",
       "    }\n",
       "</style>\n",
       "<table border=\"1\" class=\"dataframe\">\n",
       "  <thead>\n",
       "    <tr style=\"text-align: right;\">\n",
       "      <th></th>\n",
       "      <th>Rating</th>\n",
       "      <th>Reviews</th>\n",
       "      <th>Size</th>\n",
       "      <th>Installs</th>\n",
       "      <th>Type</th>\n",
       "      <th>Price</th>\n",
       "      <th>Content Rating</th>\n",
       "      <th>ART_AND_DESIGN</th>\n",
       "      <th>AUTO_AND_VEHICLES</th>\n",
       "      <th>BEAUTY</th>\n",
       "      <th>...</th>\n",
       "      <th>PERSONALIZATION</th>\n",
       "      <th>PHOTOGRAPHY</th>\n",
       "      <th>PRODUCTIVITY</th>\n",
       "      <th>SHOPPING</th>\n",
       "      <th>SOCIAL</th>\n",
       "      <th>SPORTS</th>\n",
       "      <th>TOOLS</th>\n",
       "      <th>TRAVEL_AND_LOCAL</th>\n",
       "      <th>VIDEO_PLAYERS</th>\n",
       "      <th>WEATHER</th>\n",
       "    </tr>\n",
       "  </thead>\n",
       "  <tbody>\n",
       "    <tr>\n",
       "      <th>count</th>\n",
       "      <td>9132.000000</td>\n",
       "      <td>9.132000e+03</td>\n",
       "      <td>9132.000000</td>\n",
       "      <td>9132.000000</td>\n",
       "      <td>9132.000000</td>\n",
       "      <td>9132.000000</td>\n",
       "      <td>9132.000000</td>\n",
       "      <td>9132.000000</td>\n",
       "      <td>9132.000000</td>\n",
       "      <td>9132.000000</td>\n",
       "      <td>...</td>\n",
       "      <td>9132.000000</td>\n",
       "      <td>9132.000000</td>\n",
       "      <td>9132.000000</td>\n",
       "      <td>9132.000000</td>\n",
       "      <td>9132.000000</td>\n",
       "      <td>9132.000000</td>\n",
       "      <td>9132.000000</td>\n",
       "      <td>9132.000000</td>\n",
       "      <td>9132.000000</td>\n",
       "      <td>9132.000000</td>\n",
       "    </tr>\n",
       "    <tr>\n",
       "      <th>mean</th>\n",
       "      <td>0.796356</td>\n",
       "      <td>1.184964e-03</td>\n",
       "      <td>0.033734</td>\n",
       "      <td>0.140198</td>\n",
       "      <td>0.075558</td>\n",
       "      <td>0.016001</td>\n",
       "      <td>0.094357</td>\n",
       "      <td>0.006680</td>\n",
       "      <td>0.009198</td>\n",
       "      <td>0.005804</td>\n",
       "      <td>...</td>\n",
       "      <td>0.039093</td>\n",
       "      <td>0.026172</td>\n",
       "      <td>0.037232</td>\n",
       "      <td>0.020696</td>\n",
       "      <td>0.024201</td>\n",
       "      <td>0.034275</td>\n",
       "      <td>0.084100</td>\n",
       "      <td>0.023106</td>\n",
       "      <td>0.015988</td>\n",
       "      <td>0.008213</td>\n",
       "    </tr>\n",
       "    <tr>\n",
       "      <th>std</th>\n",
       "      <td>0.126154</td>\n",
       "      <td>1.927887e-02</td>\n",
       "      <td>0.088280</td>\n",
       "      <td>0.315801</td>\n",
       "      <td>0.264305</td>\n",
       "      <td>0.073400</td>\n",
       "      <td>0.232804</td>\n",
       "      <td>0.081461</td>\n",
       "      <td>0.095472</td>\n",
       "      <td>0.075965</td>\n",
       "      <td>...</td>\n",
       "      <td>0.193828</td>\n",
       "      <td>0.159654</td>\n",
       "      <td>0.189339</td>\n",
       "      <td>0.142374</td>\n",
       "      <td>0.153680</td>\n",
       "      <td>0.181945</td>\n",
       "      <td>0.277553</td>\n",
       "      <td>0.150247</td>\n",
       "      <td>0.125435</td>\n",
       "      <td>0.090257</td>\n",
       "    </tr>\n",
       "    <tr>\n",
       "      <th>min</th>\n",
       "      <td>0.000000</td>\n",
       "      <td>0.000000e+00</td>\n",
       "      <td>0.000000</td>\n",
       "      <td>0.000000</td>\n",
       "      <td>0.000000</td>\n",
       "      <td>0.000000</td>\n",
       "      <td>0.000000</td>\n",
       "      <td>0.000000</td>\n",
       "      <td>0.000000</td>\n",
       "      <td>0.000000</td>\n",
       "      <td>...</td>\n",
       "      <td>0.000000</td>\n",
       "      <td>0.000000</td>\n",
       "      <td>0.000000</td>\n",
       "      <td>0.000000</td>\n",
       "      <td>0.000000</td>\n",
       "      <td>0.000000</td>\n",
       "      <td>0.000000</td>\n",
       "      <td>0.000000</td>\n",
       "      <td>0.000000</td>\n",
       "      <td>0.000000</td>\n",
       "    </tr>\n",
       "    <tr>\n",
       "      <th>25%</th>\n",
       "      <td>0.750000</td>\n",
       "      <td>2.814800e-07</td>\n",
       "      <td>0.005691</td>\n",
       "      <td>0.000000</td>\n",
       "      <td>0.000000</td>\n",
       "      <td>0.000000</td>\n",
       "      <td>0.000000</td>\n",
       "      <td>0.000000</td>\n",
       "      <td>0.000000</td>\n",
       "      <td>0.000000</td>\n",
       "      <td>...</td>\n",
       "      <td>0.000000</td>\n",
       "      <td>0.000000</td>\n",
       "      <td>0.000000</td>\n",
       "      <td>0.000000</td>\n",
       "      <td>0.000000</td>\n",
       "      <td>0.000000</td>\n",
       "      <td>0.000000</td>\n",
       "      <td>0.000000</td>\n",
       "      <td>0.000000</td>\n",
       "      <td>0.000000</td>\n",
       "    </tr>\n",
       "    <tr>\n",
       "      <th>50%</th>\n",
       "      <td>0.825000</td>\n",
       "      <td>9.615101e-06</td>\n",
       "      <td>0.013937</td>\n",
       "      <td>0.001000</td>\n",
       "      <td>0.000000</td>\n",
       "      <td>0.000000</td>\n",
       "      <td>0.000000</td>\n",
       "      <td>0.000000</td>\n",
       "      <td>0.000000</td>\n",
       "      <td>0.000000</td>\n",
       "      <td>...</td>\n",
       "      <td>0.000000</td>\n",
       "      <td>0.000000</td>\n",
       "      <td>0.000000</td>\n",
       "      <td>0.000000</td>\n",
       "      <td>0.000000</td>\n",
       "      <td>0.000000</td>\n",
       "      <td>0.000000</td>\n",
       "      <td>0.000000</td>\n",
       "      <td>0.000000</td>\n",
       "      <td>0.000000</td>\n",
       "    </tr>\n",
       "    <tr>\n",
       "      <th>75%</th>\n",
       "      <td>0.875000</td>\n",
       "      <td>2.716634e-04</td>\n",
       "      <td>0.030197</td>\n",
       "      <td>0.010000</td>\n",
       "      <td>0.000000</td>\n",
       "      <td>0.000000</td>\n",
       "      <td>0.000000</td>\n",
       "      <td>0.000000</td>\n",
       "      <td>0.000000</td>\n",
       "      <td>0.000000</td>\n",
       "      <td>...</td>\n",
       "      <td>0.000000</td>\n",
       "      <td>0.000000</td>\n",
       "      <td>0.000000</td>\n",
       "      <td>0.000000</td>\n",
       "      <td>0.000000</td>\n",
       "      <td>0.000000</td>\n",
       "      <td>0.000000</td>\n",
       "      <td>0.000000</td>\n",
       "      <td>0.000000</td>\n",
       "      <td>0.000000</td>\n",
       "    </tr>\n",
       "    <tr>\n",
       "      <th>max</th>\n",
       "      <td>1.000000</td>\n",
       "      <td>1.000000e+00</td>\n",
       "      <td>1.000000</td>\n",
       "      <td>1.000000</td>\n",
       "      <td>1.000000</td>\n",
       "      <td>1.000000</td>\n",
       "      <td>1.000000</td>\n",
       "      <td>1.000000</td>\n",
       "      <td>1.000000</td>\n",
       "      <td>1.000000</td>\n",
       "      <td>...</td>\n",
       "      <td>1.000000</td>\n",
       "      <td>1.000000</td>\n",
       "      <td>1.000000</td>\n",
       "      <td>1.000000</td>\n",
       "      <td>1.000000</td>\n",
       "      <td>1.000000</td>\n",
       "      <td>1.000000</td>\n",
       "      <td>1.000000</td>\n",
       "      <td>1.000000</td>\n",
       "      <td>1.000000</td>\n",
       "    </tr>\n",
       "  </tbody>\n",
       "</table>\n",
       "<p>8 rows × 40 columns</p>\n",
       "</div>"
      ],
      "text/plain": [
       "            Rating       Reviews         Size     Installs         Type  \\\n",
       "count  9132.000000  9.132000e+03  9132.000000  9132.000000  9132.000000   \n",
       "mean      0.796356  1.184964e-03     0.033734     0.140198     0.075558   \n",
       "std       0.126154  1.927887e-02     0.088280     0.315801     0.264305   \n",
       "min       0.000000  0.000000e+00     0.000000     0.000000     0.000000   \n",
       "25%       0.750000  2.814800e-07     0.005691     0.000000     0.000000   \n",
       "50%       0.825000  9.615101e-06     0.013937     0.001000     0.000000   \n",
       "75%       0.875000  2.716634e-04     0.030197     0.010000     0.000000   \n",
       "max       1.000000  1.000000e+00     1.000000     1.000000     1.000000   \n",
       "\n",
       "             Price  Content Rating  ART_AND_DESIGN  AUTO_AND_VEHICLES  \\\n",
       "count  9132.000000     9132.000000     9132.000000        9132.000000   \n",
       "mean      0.016001        0.094357        0.006680           0.009198   \n",
       "std       0.073400        0.232804        0.081461           0.095472   \n",
       "min       0.000000        0.000000        0.000000           0.000000   \n",
       "25%       0.000000        0.000000        0.000000           0.000000   \n",
       "50%       0.000000        0.000000        0.000000           0.000000   \n",
       "75%       0.000000        0.000000        0.000000           0.000000   \n",
       "max       1.000000        1.000000        1.000000           1.000000   \n",
       "\n",
       "            BEAUTY  ...  PERSONALIZATION  PHOTOGRAPHY  PRODUCTIVITY  \\\n",
       "count  9132.000000  ...      9132.000000  9132.000000   9132.000000   \n",
       "mean      0.005804  ...         0.039093     0.026172      0.037232   \n",
       "std       0.075965  ...         0.193828     0.159654      0.189339   \n",
       "min       0.000000  ...         0.000000     0.000000      0.000000   \n",
       "25%       0.000000  ...         0.000000     0.000000      0.000000   \n",
       "50%       0.000000  ...         0.000000     0.000000      0.000000   \n",
       "75%       0.000000  ...         0.000000     0.000000      0.000000   \n",
       "max       1.000000  ...         1.000000     1.000000      1.000000   \n",
       "\n",
       "          SHOPPING       SOCIAL       SPORTS        TOOLS  TRAVEL_AND_LOCAL  \\\n",
       "count  9132.000000  9132.000000  9132.000000  9132.000000       9132.000000   \n",
       "mean      0.020696     0.024201     0.034275     0.084100          0.023106   \n",
       "std       0.142374     0.153680     0.181945     0.277553          0.150247   \n",
       "min       0.000000     0.000000     0.000000     0.000000          0.000000   \n",
       "25%       0.000000     0.000000     0.000000     0.000000          0.000000   \n",
       "50%       0.000000     0.000000     0.000000     0.000000          0.000000   \n",
       "75%       0.000000     0.000000     0.000000     0.000000          0.000000   \n",
       "max       1.000000     1.000000     1.000000     1.000000          1.000000   \n",
       "\n",
       "       VIDEO_PLAYERS      WEATHER  \n",
       "count    9132.000000  9132.000000  \n",
       "mean        0.015988     0.008213  \n",
       "std         0.125435     0.090257  \n",
       "min         0.000000     0.000000  \n",
       "25%         0.000000     0.000000  \n",
       "50%         0.000000     0.000000  \n",
       "75%         0.000000     0.000000  \n",
       "max         1.000000     1.000000  \n",
       "\n",
       "[8 rows x 40 columns]"
      ]
     },
     "execution_count": 170,
     "metadata": {},
     "output_type": "execute_result"
    }
   ],
   "source": [
    "data_na.describe()"
   ]
  },
  {
   "cell_type": "markdown",
   "metadata": {},
   "source": [
    "# Разбиваем данные на обучающую и тестовую выборки"
   ]
  },
  {
   "cell_type": "code",
   "execution_count": 171,
   "metadata": {},
   "outputs": [
    {
     "data": {
      "text/plain": [
       "Index(['Rating', 'Reviews', 'Size', 'Installs', 'Type', 'Price',\n",
       "       'Content Rating', 'ART_AND_DESIGN', 'AUTO_AND_VEHICLES', 'BEAUTY',\n",
       "       'BOOKS_AND_REFERENCE', 'BUSINESS', 'COMICS', 'COMMUNICATION', 'DATING',\n",
       "       'EDUCATION', 'ENTERTAINMENT', 'EVENTS', 'FAMILY', 'FINANCE',\n",
       "       'FOOD_AND_DRINK', 'GAME', 'HEALTH_AND_FITNESS', 'HOUSE_AND_HOME',\n",
       "       'LIBRARIES_AND_DEMO', 'LIFESTYLE', 'MAPS_AND_NAVIGATION', 'MEDICAL',\n",
       "       'NEWS_AND_MAGAZINES', 'PARENTING', 'PERSONALIZATION', 'PHOTOGRAPHY',\n",
       "       'PRODUCTIVITY', 'SHOPPING', 'SOCIAL', 'SPORTS', 'TOOLS',\n",
       "       'TRAVEL_AND_LOCAL', 'VIDEO_PLAYERS', 'WEATHER'],\n",
       "      dtype='object')"
      ]
     },
     "execution_count": 171,
     "metadata": {},
     "output_type": "execute_result"
    }
   ],
   "source": [
    "data_na.columns"
   ]
  },
  {
   "cell_type": "markdown",
   "metadata": {},
   "source": [
    "### Для предсказания будем использовать все выходные признаки не связанные с ценой "
   ]
  },
  {
   "cell_type": "code",
   "execution_count": 172,
   "metadata": {},
   "outputs": [],
   "source": [
    "X = data_na.drop(['Type', 'Price'], axis=1)\n",
    "y = data_na['Type']"
   ]
  },
  {
   "cell_type": "code",
   "execution_count": 173,
   "metadata": {},
   "outputs": [
    {
     "data": {
      "text/plain": [
       "(6849, 2283)"
      ]
     },
     "execution_count": 173,
     "metadata": {},
     "output_type": "execute_result"
    }
   ],
   "source": [
    "from sklearn.model_selection import train_test_split\n",
    "X_train, X_test, y_train, y_test = train_test_split(X, y, test_size = 0.25, random_state = 42)\n",
    "\n",
    "N_train, _ = X_train.shape\n",
    "N_test, _ = X_test.shape\n",
    "\n",
    "N_train, N_test"
   ]
  },
  {
   "cell_type": "markdown",
   "metadata": {},
   "source": [
    "# Классификация"
   ]
  },
  {
   "cell_type": "code",
   "execution_count": 174,
   "metadata": {},
   "outputs": [],
   "source": [
    "from sklearn.metrics import accuracy_score, mean_squared_error"
   ]
  },
  {
   "cell_type": "markdown",
   "metadata": {},
   "source": [
    "## KNeighborsClassifier"
   ]
  },
  {
   "cell_type": "markdown",
   "metadata": {},
   "source": [
    "## 5 Соседей"
   ]
  },
  {
   "cell_type": "code",
   "execution_count": 175,
   "metadata": {},
   "outputs": [
    {
     "name": "stdout",
     "output_type": "stream",
     "text": [
      "Accuracy score: train 0.9297707694553949, test 0.9194042925974595\n",
      "Mean-squared error: train 0.07022923054460505, test 0.08059570740254052\n"
     ]
    }
   ],
   "source": [
    "from sklearn.neighbors import KNeighborsClassifier\n",
    "\n",
    "knn_model = KNeighborsClassifier()\n",
    "knn_model.fit(X_train.values, y_train)\n",
    "y_train_pred = knn_model.predict(X_train.values)\n",
    "y_test_pred = knn_model.predict(X_test.values)\n",
    "\n",
    "print(\"Accuracy score: train {}, test {}\".format(accuracy_score(y_train, y_train_pred), accuracy_score(y_test, y_test_pred)))\n",
    "print(\"Mean-squared error: train {}, test {}\".format(mean_squared_error(y_train, y_train_pred), mean_squared_error(y_test, y_test_pred)))"
   ]
  },
  {
   "cell_type": "markdown",
   "metadata": {},
   "source": [
    "## 10 Соседей"
   ]
  },
  {
   "cell_type": "code",
   "execution_count": 176,
   "metadata": {},
   "outputs": [
    {
     "name": "stdout",
     "output_type": "stream",
     "text": [
      "Accuracy score: train 0.9246605343845817, test 0.9290407358738502\n",
      "Mean-squared error: train 0.07533946561541831, test 0.07095926412614981\n"
     ]
    }
   ],
   "source": [
    "knn_model = KNeighborsClassifier(n_neighbors=11)\n",
    "knn_model.fit(X_train.values, y_train)\n",
    "y_train_pred = knn_model.predict(X_train.values)\n",
    "y_test_pred = knn_model.predict(X_test.values)\n",
    "\n",
    "print(\"Accuracy score: train {}, test {}\".format(accuracy_score(y_train, y_train_pred), accuracy_score(y_test, y_test_pred)))\n",
    "print(\"Mean-squared error: train {}, test {}\".format(mean_squared_error(y_train, y_train_pred), mean_squared_error(y_test, y_test_pred)))"
   ]
  },
  {
   "cell_type": "markdown",
   "metadata": {},
   "source": [
    "## 3 Соседа"
   ]
  },
  {
   "cell_type": "code",
   "execution_count": 177,
   "metadata": {},
   "outputs": [
    {
     "name": "stdout",
     "output_type": "stream",
     "text": [
      "Accuracy score: train 0.9410132866111841, test 0.9141480508103372\n",
      "Mean-squared error: train 0.058986713388815885, test 0.08585194918966273\n"
     ]
    }
   ],
   "source": [
    "knn_model = KNeighborsClassifier(n_neighbors=3)\n",
    "knn_model.fit(X_train.values, y_train)\n",
    "y_train_pred = knn_model.predict(X_train.values)\n",
    "y_test_pred = knn_model.predict(X_test.values)\n",
    "print(\"Accuracy score: train {}, test {}\".format(accuracy_score(y_train, y_train_pred), accuracy_score(y_test, y_test_pred)))\n",
    "print(\"Mean-squared error: train {}, test {}\".format(mean_squared_error(y_train, y_train_pred), mean_squared_error(y_test, y_test_pred)))"
   ]
  },
  {
   "cell_type": "markdown",
   "metadata": {},
   "source": [
    "## Random Forest"
   ]
  },
  {
   "cell_type": "code",
   "execution_count": 178,
   "metadata": {},
   "outputs": [
    {
     "name": "stdout",
     "output_type": "stream",
     "text": [
      "Accuracy score: train 0.9978098992553658, test 0.932544897065265\n",
      "Mean-squared error: train 0.002190100744634253, test 0.067455102934735\n"
     ]
    }
   ],
   "source": [
    "from sklearn.ensemble import RandomForestClassifier\n",
    "rf_model = RandomForestClassifier()\n",
    "rf_model.fit(X_train, y_train)\n",
    "y_train_pred = rf_model.predict(X_train)\n",
    "y_test_pred = rf_model.predict(X_test)\n",
    "print(\"Accuracy score: train {}, test {}\".format(accuracy_score(y_train, y_train_pred), accuracy_score(y_test, y_test_pred)))\n",
    "print(\"Mean-squared error: train {}, test {}\".format(mean_squared_error(y_train, y_train_pred), mean_squared_error(y_test, y_test_pred)))"
   ]
  },
  {
   "cell_type": "markdown",
   "metadata": {},
   "source": [
    "## Предположение"
   ]
  },
  {
   "cell_type": "markdown",
   "metadata": {},
   "source": [
    "### Такая высокая точность для алгоритмов в нашем случае может быть вызвана несбалансированностью классов, т к строчек с значением Free >> Paid"
   ]
  },
  {
   "cell_type": "markdown",
   "metadata": {},
   "source": [
    "# Выводы"
   ]
  },
  {
   "cell_type": "markdown",
   "metadata": {},
   "source": [
    "### 1. При классификации при помощи алгоритма \"KNN\" при изменении количества соседей точность предсказаний немного увеличивалась при большем количестве соседей.\n",
    "### 2. При классификации при помощи алгоритма \"Random Forest\" точность предсказания возрасла в сравнении с \"KNN\"."
   ]
  },
  {
   "attachments": {},
   "cell_type": "markdown",
   "metadata": {},
   "source": [
    "Теперь обучим полносвязную нейронную сеть"
   ]
  },
  {
   "cell_type": "code",
   "execution_count": 185,
   "metadata": {},
   "outputs": [
    {
     "name": "stdout",
     "output_type": "stream",
     "text": [
      "Accuracy score: train 0.9978098992553658, test 0.932544897065265\n",
      "Mean-squared error: train 0.002190100744634253, test 0.067455102934735\n"
     ]
    }
   ],
   "source": [
    "from sklearn.neural_network import MLPClassifier\n",
    "mlp_model = MLPClassifier(hidden_layer_sizes = (100,),\n",
    "                          activation = \"logistic\",\n",
    "                          solver = \"lbfgs\",\n",
    "                          random_state = 42,\n",
    "                          max_iter=1000)\n",
    "mlp_model.fit(X_train, y_train)\n",
    "y_train_pred = rf_model.predict(X_train)\n",
    "y_test_pred = rf_model.predict(X_test)\n",
    "print(\"Accuracy score: train {}, test {}\".format(accuracy_score(y_train, y_train_pred), accuracy_score(y_test, y_test_pred)))\n",
    "print(\"Mean-squared error: train {}, test {}\".format(mean_squared_error(y_train, y_train_pred), mean_squared_error(y_test, y_test_pred)))"
   ]
  },
  {
   "attachments": {},
   "cell_type": "markdown",
   "metadata": {},
   "source": [
    "Подберем параметр `alpha`:"
   ]
  },
  {
   "cell_type": "code",
   "execution_count": 241,
   "metadata": {},
   "outputs": [],
   "source": [
    "from sklearn.metrics import accuracy_score\n",
    "alpha_arr = np.logspace(-2, 1, 20).round(3)\n",
    "test_err = []\n",
    "train_err = []\n",
    "train_acc = []\n",
    "test_acc = []\n",
    "\n",
    "for alpha in alpha_arr:\n",
    "    mlp_model = MLPClassifier(alpha = alpha, hidden_layer_sizes = (100,),\n",
    "                              solver = \"lbfgs\", activation = \"logistic\",\n",
    "                              max_iter=5000, random_state = 42)\n",
    "    mlp_model.fit(X_train, y_train)\n",
    "\n",
    "    y_train_pred = mlp_model.predict(X_train)\n",
    "    y_test_pred = mlp_model.predict(X_test)\n",
    "\n",
    "    train_err.append(np.mean(y_train != y_train_pred))\n",
    "    test_err.append(np.mean(y_test != y_test_pred))\n",
    "    train_acc.append(accuracy_score(y_train, y_train_pred))\n",
    "    test_acc.append(accuracy_score(y_test, y_test_pred))"
   ]
  },
  {
   "cell_type": "code",
   "execution_count": 242,
   "metadata": {},
   "outputs": [
    {
     "data": {
      "text/plain": [
       "<matplotlib.legend.Legend at 0x1c2005b02e0>"
      ]
     },
     "execution_count": 242,
     "metadata": {},
     "output_type": "execute_result"
    },
    {
     "data": {
      "image/png": "[encoded data removed]",
      "text/plain": [
       "<Figure size 432x288 with 1 Axes>"
      ]
     },
     "metadata": {
      "needs_background": "light"
     },
     "output_type": "display_data"
    }
   ],
   "source": [
    "plt.semilogx(alpha_arr, train_err, \"b-o\", label = \"train\")\n",
    "plt.semilogx(alpha_arr, test_err, \"r-o\", label = \"test\")\n",
    "plt.xlim([np.min(alpha_arr), np.max(alpha_arr)])\n",
    "plt.title('Error vs. alpha')\n",
    "plt.xlabel('alpha')\n",
    "plt.ylabel('error')\n",
    "plt.legend()"
   ]
  },
  {
   "cell_type": "code",
   "execution_count": 243,
   "metadata": {},
   "outputs": [
    {
     "data": {
      "text/plain": [
       "<matplotlib.legend.Legend at 0x1c2006814c0>"
      ]
     },
     "execution_count": 243,
     "metadata": {},
     "output_type": "execute_result"
    },
    {
     "data": {
      "image/png": "[encoded data removed]",
      "text/plain": [
       "<Figure size 432x288 with 1 Axes>"
      ]
     },
     "metadata": {
      "needs_background": "light"
     },
     "output_type": "display_data"
    }
   ],
   "source": [
    "plt.semilogx(alpha_arr, train_acc, 'r-o', label = 'train')\n",
    "plt.semilogx(alpha_arr, test_acc, 'b-o', label = 'test')\n",
    "plt.xlim([np.min(alpha_arr), np.max(alpha_arr)])\n",
    "plt.title('Accuracy vs. alpha')\n",
    "plt.xlabel('alpha')\n",
    "plt.ylabel('Accuracy')\n",
    "plt.legend()"
   ]
  },
  {
   "cell_type": "code",
   "execution_count": 244,
   "metadata": {},
   "outputs": [
    {
     "name": "stdout",
     "output_type": "stream",
     "text": [
      "min train error 0.07694553949481676\n",
      "min test error 0.06964520367936924\n"
     ]
    },
    {
     "data": {
      "text/plain": [
       "0.01"
      ]
     },
     "execution_count": 244,
     "metadata": {},
     "output_type": "execute_result"
    }
   ],
   "source": [
    "min_train_err = np.min(train_err)\n",
    "min_test_err = np.min(test_err)\n",
    "print(\"min train error\", min_train_err)\n",
    "print(\"min test error\", min_test_err)\n",
    "alpha_opt = alpha_arr[test_err == min_test_err]\n",
    "alpha_opt = alpha_opt[0]\n",
    "alpha_opt"
   ]
  },
  {
   "attachments": {},
   "cell_type": "markdown",
   "metadata": {},
   "source": [
    "Таким образом, получили оптимальное значение `alpha`"
   ]
  },
  {
   "cell_type": "code",
   "execution_count": 245,
   "metadata": {},
   "outputs": [
    {
     "name": "stdout",
     "output_type": "stream",
     "text": [
      "Accuracy score: train 0.9224704336399474, test 0.9303547963206308\n",
      "Mean-squared error: train 0.07752956636005257, test 0.06964520367936924\n"
     ]
    }
   ],
   "source": [
    "mlp_model = MLPClassifier(alpha = alpha_opt,\n",
    "                          hidden_layer_sizes = (100,),\n",
    "                          solver = \"lbfgs\",\n",
    "                          activation = \"logistic\",\n",
    "                          random_state = 42,\n",
    "                          max_iter=1000)\n",
    "mlp_model.fit(X_train, y_train)\n",
    "print(\"Accuracy score: train {}, test {}\".format(accuracy_score(y_train, y_train_pred), accuracy_score(y_test, y_test_pred)))\n",
    "print(\"Mean-squared error: train {}, test {}\".format(mean_squared_error(y_train, y_train_pred), mean_squared_error(y_test, y_test_pred)))"
   ]
  },
  {
   "attachments": {},
   "cell_type": "markdown",
   "metadata": {},
   "source": [
    "Найдем оптимальное значение параметра `hidden_layer_sizes`"
   ]
  },
  {
   "cell_type": "code",
   "execution_count": 255,
   "metadata": {},
   "outputs": [],
   "source": [
    "from sklearn.metrics import accuracy_score\n",
    "hidden_layers_arr = np.linspace(1, 200, 12).astype(int)\n",
    "test_err = []\n",
    "train_err = []\n",
    "train_acc = []\n",
    "test_acc = []\n",
    "\n",
    "for hidden_layer_sizes in hidden_layers_arr:\n",
    "    mlp_model = MLPClassifier(alpha = alpha_opt, hidden_layer_sizes = hidden_layer_sizes,\n",
    "                              solver = \"lbfgs\", activation = \"logistic\",\n",
    "                              max_iter=5000, random_state = 42)\n",
    "    mlp_model.fit(X_train, y_train)\n",
    "\n",
    "    y_train_pred = mlp_model.predict(X_train)\n",
    "    y_test_pred = mlp_model.predict(X_test)\n",
    "\n",
    "    train_err.append(np.mean(y_train != y_train_pred))\n",
    "    test_err.append(np.mean(y_test != y_test_pred))\n",
    "    train_acc.append(accuracy_score(y_train, y_train_pred))\n",
    "    test_acc.append(accuracy_score(y_test, y_test_pred))"
   ]
  },
  {
   "cell_type": "code",
   "execution_count": 256,
   "metadata": {},
   "outputs": [
    {
     "data": {
      "text/plain": [
       "<matplotlib.legend.Legend at 0x1c200937f40>"
      ]
     },
     "execution_count": 256,
     "metadata": {},
     "output_type": "execute_result"
    },
    {
     "data": {
      "image/png": "[encoded data removed]",
      "text/plain": [
       "<Figure size 432x288 with 1 Axes>"
      ]
     },
     "metadata": {
      "needs_background": "light"
     },
     "output_type": "display_data"
    }
   ],
   "source": [
    "plt.semilogx(hidden_layers_arr, train_err, 'b-o', label = 'train')\n",
    "plt.semilogx(hidden_layers_arr, test_err, 'r-o', label = 'test')\n",
    "plt.xlim([np.min(hidden_layers_arr), np.max(hidden_layers_arr)])\n",
    "plt.title('Error vs. hidden_layers_size')\n",
    "plt.xlabel('hidden_layers_size')\n",
    "plt.ylabel('error')\n",
    "plt.legend()"
   ]
  },
  {
   "attachments": {},
   "cell_type": "markdown",
   "metadata": {},
   "source": [
    "резкий скачок в конце графика это аномалия, случайность. Вообще говоря, легко видеть, что по-началу, когда фильтров было немного, модель была недообучена, а с увеличением их количества, ошибка на обучающей выборке превысила ошибку на тренировочной. Последнее говорит о переобучении, модель стала слишком сложной. Причем данный переход произошел слишком резко. Попробуем найти его"
   ]
  },
  {
   "cell_type": "code",
   "execution_count": 259,
   "metadata": {},
   "outputs": [],
   "source": [
    "from sklearn.metrics import accuracy_score\n",
    "hidden_layers_arr = np.linspace(80, 100, 10).astype(int)\n",
    "test_err = []\n",
    "train_err = []\n",
    "train_acc = []\n",
    "test_acc = []\n",
    "\n",
    "for hidden_layer_sizes in hidden_layers_arr:\n",
    "    mlp_model = MLPClassifier(alpha = alpha_opt, hidden_layer_sizes = hidden_layer_sizes,\n",
    "                              solver = \"lbfgs\", activation = \"logistic\",\n",
    "                              max_iter=5000, random_state = 42)\n",
    "    mlp_model.fit(X_train, y_train)\n",
    "\n",
    "    y_train_pred = mlp_model.predict(X_train)\n",
    "    y_test_pred = mlp_model.predict(X_test)\n",
    "\n",
    "    train_err.append(np.mean(y_train != y_train_pred))\n",
    "    test_err.append(np.mean(y_test != y_test_pred))\n",
    "    train_acc.append(accuracy_score(y_train, y_train_pred))\n",
    "    test_acc.append(accuracy_score(y_test, y_test_pred))"
   ]
  },
  {
   "cell_type": "code",
   "execution_count": 260,
   "metadata": {},
   "outputs": [
    {
     "data": {
      "text/plain": [
       "<matplotlib.legend.Legend at 0x1c200f14fa0>"
      ]
     },
     "execution_count": 260,
     "metadata": {},
     "output_type": "execute_result"
    },
    {
     "data": {
      "image/png": "[encoded data removed]",
      "text/plain": [
       "<Figure size 432x288 with 1 Axes>"
      ]
     },
     "metadata": {
      "needs_background": "light"
     },
     "output_type": "display_data"
    }
   ],
   "source": [
    "plt.semilogx(hidden_layers_arr, train_err, 'b-o', label = 'train')\n",
    "plt.semilogx(hidden_layers_arr, test_err, 'r-o', label = 'test')\n",
    "plt.xlim([np.min(hidden_layers_arr), np.max(hidden_layers_arr)])\n",
    "plt.title('Error vs. hidden_layers_size')\n",
    "plt.xlabel('hidden_layers_size')\n",
    "plt.ylabel('error')\n",
    "plt.legend()"
   ]
  },
  {
   "cell_type": "code",
   "execution_count": 261,
   "metadata": {},
   "outputs": [
    {
     "name": "stdout",
     "output_type": "stream",
     "text": [
      "min train error 0.06672506935319025\n",
      "min test error 0.06964520367936924\n"
     ]
    },
    {
     "data": {
      "text/plain": [
       "100"
      ]
     },
     "execution_count": 261,
     "metadata": {},
     "output_type": "execute_result"
    }
   ],
   "source": [
    "min_train_err = np.min(train_err)\n",
    "min_test_err = np.min(test_err)\n",
    "print(\"min train error\", min_train_err)\n",
    "print(\"min test error\", min_test_err)\n",
    "array = test_err == min_test_err\n",
    "for i, hidden_layer in enumerate(hidden_layers_arr):\n",
    "    if (array[i]):\n",
    "        hidden_layer_opt = hidden_layer\n",
    "hidden_layer_opt"
   ]
  },
  {
   "attachments": {},
   "cell_type": "markdown",
   "metadata": {},
   "source": [
    "Оптимальная модель"
   ]
  },
  {
   "cell_type": "code",
   "execution_count": 263,
   "metadata": {},
   "outputs": [
    {
     "name": "stdout",
     "output_type": "stream",
     "text": [
      "Accuracy score: train 0.9229084537888743, test 0.9303547963206308\n",
      "Mean-squared error: train 0.07709154621112571, test 0.06964520367936924\n"
     ]
    }
   ],
   "source": [
    "mlp_model = MLPClassifier(alpha = alpha_opt,\n",
    "                          hidden_layer_sizes = hidden_layer_opt,\n",
    "                          solver = \"lbfgs\",\n",
    "                          activation = \"logistic\",\n",
    "                          random_state = 42,\n",
    "                          max_iter=1000)\n",
    "mlp_model.fit(X_train, y_train)\n",
    "\n",
    "y_train_pred = mlp_model.predict(X_train)\n",
    "y_test_pred = mlp_model.predict(X_test)\n",
    "print(\"Accuracy score: train {}, test {}\".format(accuracy_score(y_train, y_train_pred), accuracy_score(y_test, y_test_pred)))\n",
    "print(\"Mean-squared error: train {}, test {}\".format(mean_squared_error(y_train, y_train_pred), mean_squared_error(y_test, y_test_pred)))"
   ]
  },
  {
   "cell_type": "code",
   "execution_count": 271,
   "metadata": {},
   "outputs": [
    {
     "data": {
      "text/plain": [
       "<sklearn.metrics._plot.confusion_matrix.ConfusionMatrixDisplay at 0x1c2009775b0>"
      ]
     },
     "execution_count": 271,
     "metadata": {},
     "output_type": "execute_result"
    },
    {
     "data": {
      "image/png": "[encoded data removed]",
      "text/plain": [
       "<Figure size 432x288 with 2 Axes>"
      ]
     },
     "metadata": {
      "needs_background": "light"
     },
     "output_type": "display_data"
    }
   ],
   "source": [
    "from sklearn.metrics import ConfusionMatrixDisplay\n",
    "ConfusionMatrixDisplay.from_estimator(mlp_model, X_test, y_test, cmap=plt.cm.Blues)"
   ]
  },
  {
   "attachments": {},
   "cell_type": "markdown",
   "metadata": {},
   "source": [
    "Проблема, почему получился такой результат: 0-ой класс сильно доминирует над 1-ым, то есть бесплатных приложений гораздо больше, нежели платных, оно и понятно, так как гораздо прибыльней схема \"Free-to-play\""
   ]
  }
 ],
 "metadata": {
  "kernelspec": {
   "display_name": "Python 3",
   "language": "python",
   "name": "python3"
  },
  "language_info": {
   "codemirror_mode": {
    "name": "ipython",
    "version": 3
   },
   "file_extension": ".py",
   "mimetype": "text/x-python",
   "name": "python",
   "nbconvert_exporter": "python",
   "pygments_lexer": "ipython3",
   "version": "3.9.10"
  },
  "orig_nbformat": 4,
  "vscode": {
   "interpreter": {
    "hash": "6a1ef2bb3df2cce69d42d2d13f3c37429f18d443fa8cbc93d991f8e241bd6894"
   }
  }
 },
 "nbformat": 4,
 "nbformat_minor": 2
}
